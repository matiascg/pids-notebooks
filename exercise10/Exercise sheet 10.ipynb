{
 "cells": [
  {
   "cell_type": "markdown",
   "id": "35966ab3",
   "metadata": {},
   "source": [
    "# Exercise sheet 10\n",
    "**Hello everyone!**\n",
    "\n",
    "**Points: 15 (+2)**\n",
    "\n",
    "Please let us know if you have questions or problems! <br>\n",
    "Contact us during the exercise session, on [ADAM](https://adam.unibas.ch/goto_adam_crs_1266890.html), [Piazza](https://piazza.com/class/kzy15kp8s5t6ku), or [via email](https://sada.dmi.unibas.ch/en/teaching/pids22).\n",
    "\n",
    "Please submit this exercise sheet on **ADAM**.\n",
    "Naming conventions:\n",
    "\n",
    "1. Make a folder called \"exercise10\".\n",
    "2. Put your submission \"Exercise sheet 10.ipynb\" in there.\n",
    "3. Complete the sheet. Only put code or text inside the blocks where \"# YOUR CODE HERE\" or \"YOUR ANSWER HERE\" is written. Everything else will be deleted during grading. Don't add new blocks.\n",
    "4. Then zip the folder called \"exercise10\". This will create a zip file called \"exercise10.zip\". Rename that zip file to your Unibas short name, e.g. \"blabla0000.zip\".\n",
    "\n",
    "Common mistakes:\n",
    "- Don't use capital letter for your identification name, or the exercise folder.\n",
    "- Don't put previous sheet or dataset on the submission folders. Just the sheet, ipynb format.\n",
    "\n",
    "\n",
    "\n",
    "**Handout date**: 2022/05/17 <br>\n",
    "**Submission date**: 2022/05/24 <br>"
   ]
  },
  {
   "cell_type": "code",
   "execution_count": null,
   "id": "ef7a85d5",
   "metadata": {},
   "outputs": [],
   "source": [
    "import pandas as pd\n",
    "import seaborn as sns\n",
    "import matplotlib.pyplot as plt\n",
    "import numpy as np\n",
    "from scipy import stats\n",
    "from scipy.stats import norm\n",
    "from nose.tools import assert_is_instance, assert_equal, assert_almost_equal, assert_true"
   ]
  },
  {
   "cell_type": "markdown",
   "id": "ab467cba",
   "metadata": {},
   "source": [
    "<p><a href=\"https://commons.wikimedia.org/wiki/File:Basel_-_M%C3%BCnsterpfalz3.jpg#/media/Datei:Basel_-_Münsterpfalz3.jpg\"><img src=\"https://upload.wikimedia.org/wikipedia/commons/1/18/Basel_-_M%C3%BCnsterpfalz3.jpg\" alt=\"Basler Münster mit Pfalz und der Mittleren Rheinbrücke\" height=\"486\" width=\"1280\"></a></p>"
   ]
  },
  {
   "cell_type": "markdown",
   "id": "ab994d87",
   "metadata": {},
   "source": [
    "# Basel's neighborhoods\n",
    "We are working with a dataset containing information about Basel and its neighborhoods. You can find it here: https://opendata.swiss/de/dataset/kennzahlen-zu-den-basler-wohnvierteln-und-landgemeinden. It's also uploaded as a csv to this folder."
   ]
  },
  {
   "cell_type": "code",
   "execution_count": null,
   "id": "0277aa99",
   "metadata": {},
   "outputs": [],
   "source": [
    "bs = pd.read_csv(\"basel_neighborhoods.csv\", sep=\";\")\n",
    "bs.head()"
   ]
  },
  {
   "cell_type": "markdown",
   "id": "4c18ae5f",
   "metadata": {},
   "source": [
    "## P value (12 points)\n",
    "Let's see if there's an answer to the following question: Did the amount of green spaces in Basel's neighborhoods increase *significantly* between 2015 and 2021? <br>\n",
    "\n",
    "The column that measures green spaces (parks and such) is called *anteil_gruenflaechen*."
   ]
  },
  {
   "cell_type": "markdown",
   "id": "465fe30d",
   "metadata": {},
   "source": [
    "### Observed difference (1 point)\n",
    "What is the observed difference between the mean of the amount of green spaces in 2015 and in 2021? <br>\n",
    "(Hint: Averaged over all neighborhoods)"
   ]
  },
  {
   "cell_type": "code",
   "execution_count": null,
   "id": "2bb23d72",
   "metadata": {
    "deletable": false,
    "nbgrader": {
     "cell_type": "code",
     "checksum": "6c9cab20f1addce79a8b86e90ddde276",
     "grade": false,
     "grade_id": "cell-c1d5d57296720457",
     "locked": false,
     "schema_version": 3,
     "solution": true,
     "task": false
    }
   },
   "outputs": [],
   "source": [
    "# mean_2015 = ...\n",
    "# mean_2021 = ...\n",
    "\n",
    "# YOUR CODE HERE\n",
    "raise NotImplementedError()\n",
    "\n",
    "print(mean_2021 - mean_2015)"
   ]
  },
  {
   "cell_type": "code",
   "execution_count": null,
   "id": "70e14238",
   "metadata": {
    "deletable": false,
    "editable": false,
    "nbgrader": {
     "cell_type": "code",
     "checksum": "4822c409cedd50f86b421565ea516f0c",
     "grade": true,
     "grade_id": "cell-3b18cf85b244c23e",
     "locked": true,
     "points": 1,
     "schema_version": 3,
     "solution": false,
     "task": false
    }
   },
   "outputs": [],
   "source": [
    "assert_almost_equal(mean_2021 - mean_2015, 0.0102, places=2)"
   ]
  },
  {
   "cell_type": "markdown",
   "id": "44c349d5",
   "metadata": {},
   "source": [
    "### Thinking about it...\n",
    "Do you think that this difference points to a strong increase in green spaces between 2015 and 2021? What do you think the p value will be approximately?"
   ]
  },
  {
   "cell_type": "markdown",
   "id": "2889743f",
   "metadata": {
    "deletable": false,
    "nbgrader": {
     "cell_type": "markdown",
     "checksum": "18c2df46c32b36d9f45cfd2aeccc9a4b",
     "grade": true,
     "grade_id": "cell-f407cf89d324922e",
     "locked": false,
     "points": 0,
     "schema_version": 3,
     "solution": true,
     "task": false
    }
   },
   "source": [
    "YOUR ANSWER HERE"
   ]
  },
  {
   "cell_type": "markdown",
   "id": "bdd209ea",
   "metadata": {},
   "source": [
    "### Artificial variables (3 points)\n",
    "Let's make a new dataframe \"neighborhoods\" containing the neighborhoods of Basel in a column called \"wohnviertel_name\". Additionally, it should have a column called \"increase_green_space\" that has...\n",
    "* a 1 if the amount of green space increased between 2015 and 2021 for this neighborhood\n",
    "* a 0 otherwise"
   ]
  },
  {
   "cell_type": "code",
   "execution_count": null,
   "id": "b77aeae7",
   "metadata": {
    "deletable": false,
    "nbgrader": {
     "cell_type": "code",
     "checksum": "726c7bf861f06d35901758a1ebe6a25a",
     "grade": false,
     "grade_id": "cell-ce997035c2a68011",
     "locked": false,
     "schema_version": 3,
     "solution": true,
     "task": false
    }
   },
   "outputs": [],
   "source": [
    "# neighborhoods = ...\n",
    "# YOUR CODE HERE\n",
    "raise NotImplementedError()"
   ]
  },
  {
   "cell_type": "code",
   "execution_count": null,
   "id": "3aee17cd",
   "metadata": {
    "deletable": false,
    "editable": false,
    "nbgrader": {
     "cell_type": "code",
     "checksum": "0b6c587cf2008bae98eb2a1627ccfa09",
     "grade": true,
     "grade_id": "cell-6352e5648d9d870a",
     "locked": true,
     "points": 3,
     "schema_version": 3,
     "solution": false,
     "task": false
    }
   },
   "outputs": [],
   "source": [
    "assert_is_instance(neighborhoods, pd.DataFrame)\n",
    "assert_equal(neighborhoods[neighborhoods[\"wohnviertel_name\"] == \"Bachletten\"][\"increase_green_space\"].iloc[0], 1)\n",
    "assert_equal(neighborhoods[neighborhoods[\"wohnviertel_name\"] == \"Matthäus\"][\"increase_green_space\"].iloc[0], 0)"
   ]
  },
  {
   "cell_type": "markdown",
   "id": "80e600d2",
   "metadata": {},
   "source": [
    "### Amount of neighborhoods with an increase in green spaces (3 points)\n",
    "What is the percentage of neighborhoods that had an increase in green spaces from 2015 to 2021? This value will let us calculate the difference to our null hypothesis value."
   ]
  },
  {
   "cell_type": "code",
   "execution_count": null,
   "id": "a2be41bb",
   "metadata": {
    "deletable": false,
    "nbgrader": {
     "cell_type": "code",
     "checksum": "70b1fd16aaf86283291be7d3301a32c3",
     "grade": false,
     "grade_id": "cell-707efa52cfcacb2c",
     "locked": false,
     "schema_version": 3,
     "solution": true,
     "task": false
    }
   },
   "outputs": [],
   "source": [
    "# The percentage of neighborhoods that saw an increase of green spaces\n",
    "# increase_2021 = ...\n",
    "# The difference of increase_2021 to our null hypothesis value\n",
    "# difference_null_hypothesis = ...\n",
    "# YOUR CODE HERE\n",
    "raise NotImplementedError()"
   ]
  },
  {
   "cell_type": "code",
   "execution_count": null,
   "id": "8bc866ec",
   "metadata": {
    "deletable": false,
    "editable": false,
    "nbgrader": {
     "cell_type": "code",
     "checksum": "e462c5713392e0bda0ddce8c20e43a7c",
     "grade": true,
     "grade_id": "cell-6c4890aad81d1b54",
     "locked": true,
     "points": 3,
     "schema_version": 3,
     "solution": false,
     "task": false
    }
   },
   "outputs": [],
   "source": [
    "assert_is_instance(increase_2021, float)\n",
    "assert_is_instance(difference_null_hypothesis, float)\n",
    "assert_almost_equal(increase_2021, 0.57142857, places=2)\n",
    "assert_almost_equal(difference_null_hypothesis, 0.0714285, places=2)"
   ]
  },
  {
   "cell_type": "markdown",
   "id": "83f482cf",
   "metadata": {},
   "source": [
    "### Calculate the p value (3 points)\n",
    "What is the p value for there being a significant difference in the amount of green space between 2015 and 2021? <br>\n",
    "Or: What is the p value for $P(|mean2021 - 0.5| > \\text{observed_difference}) $?"
   ]
  },
  {
   "cell_type": "code",
   "execution_count": null,
   "id": "a724b674",
   "metadata": {
    "deletable": false,
    "nbgrader": {
     "cell_type": "code",
     "checksum": "bfbafd6c75081bc5779efce75a00be9a",
     "grade": false,
     "grade_id": "cell-07f7fc5a4f401a11",
     "locked": false,
     "schema_version": 3,
     "solution": true,
     "task": false
    }
   },
   "outputs": [],
   "source": [
    "# p_value = ...\n",
    "# YOUR CODE HERE\n",
    "raise NotImplementedError()"
   ]
  },
  {
   "cell_type": "code",
   "execution_count": null,
   "id": "8a0834b9",
   "metadata": {
    "deletable": false,
    "editable": false,
    "nbgrader": {
     "cell_type": "code",
     "checksum": "c1cb306b1ed7fc8df8e63669e3438ade",
     "grade": true,
     "grade_id": "cell-c1f16ff9645226be",
     "locked": true,
     "points": 3,
     "schema_version": 3,
     "solution": false,
     "task": false
    }
   },
   "outputs": [],
   "source": [
    "assert_is_instance(p_value, float)"
   ]
  },
  {
   "cell_type": "markdown",
   "id": "e0eff92e",
   "metadata": {},
   "source": [
    "### Do we reject or fail to reject the null hypothesis based on our p value? (2 points)\n",
    "(Hint: Read the question carefully and google it if you're not sure what it means)"
   ]
  },
  {
   "cell_type": "code",
   "execution_count": null,
   "id": "ba63561f",
   "metadata": {
    "deletable": false,
    "nbgrader": {
     "cell_type": "code",
     "checksum": "0d62d60d287b71775b3b2f69cd8fc557",
     "grade": false,
     "grade_id": "cell-e09f38db783d9e60",
     "locked": false,
     "schema_version": 3,
     "solution": true,
     "task": false
    }
   },
   "outputs": [],
   "source": [
    "# Please write your answer like this:\n",
    "# If we accept, comment out the next line:\n",
    "# null_hypothesis = \"reject\"\n",
    "# If we reject, comment out the next line:\n",
    "# null_hypothesis = \"fail to reject\"\n",
    "# YOUR CODE HERE\n",
    "raise NotImplementedError()"
   ]
  },
  {
   "cell_type": "code",
   "execution_count": null,
   "id": "c7fb74ff",
   "metadata": {
    "deletable": false,
    "editable": false,
    "nbgrader": {
     "cell_type": "code",
     "checksum": "b757de3384da0200ab067274afb965ca",
     "grade": true,
     "grade_id": "cell-ce8f3510a55faf06",
     "locked": true,
     "points": 2,
     "schema_version": 3,
     "solution": false,
     "task": false
    }
   },
   "outputs": [],
   "source": [
    "assert_is_instance(null_hypothesis, str)\n",
    "assert_true(null_hypothesis in (\"fail to reject\", \"reject\"))"
   ]
  },
  {
   "cell_type": "markdown",
   "id": "c9acddbd",
   "metadata": {},
   "source": [
    "### How could we get a lower p value?"
   ]
  },
  {
   "cell_type": "markdown",
   "id": "3bafee97",
   "metadata": {
    "deletable": false,
    "nbgrader": {
     "cell_type": "markdown",
     "checksum": "0c31315f8b8b29d05fc45539d9709c6a",
     "grade": true,
     "grade_id": "cell-7f58662189aa532a",
     "locked": false,
     "points": 0,
     "schema_version": 3,
     "solution": true,
     "task": false
    }
   },
   "source": [
    "YOUR ANSWER HERE"
   ]
  },
  {
   "cell_type": "markdown",
   "id": "c31b5b6b",
   "metadata": {},
   "source": [
    "## Regression (3 points (+2))\n",
    "### Plot correlation\n",
    "Make a plot that shows you how income tax (*einkommenssteuer_pro_veranlagung*) and apartment size (*flaeche_pro_wohnung*) are correlated (a scatter plot) for the year 2021."
   ]
  },
  {
   "cell_type": "code",
   "execution_count": null,
   "id": "8da80527",
   "metadata": {
    "deletable": false,
    "nbgrader": {
     "cell_type": "code",
     "checksum": "43c3169af03d8ec326a279cd9abd729a",
     "grade": true,
     "grade_id": "cell-30fc240c2ed71fb4",
     "locked": false,
     "points": 0,
     "schema_version": 3,
     "solution": true,
     "task": false
    }
   },
   "outputs": [],
   "source": [
    "# YOUR CODE HERE\n",
    "raise NotImplementedError()"
   ]
  },
  {
   "cell_type": "markdown",
   "id": "aa2106b7",
   "metadata": {},
   "source": [
    "### Correlation coefficient (1 point)\n",
    "What is the correlation coefficient between income tax and apartments size in Basel for 2021?"
   ]
  },
  {
   "cell_type": "code",
   "execution_count": null,
   "id": "097cb7ef",
   "metadata": {
    "deletable": false,
    "nbgrader": {
     "cell_type": "code",
     "checksum": "0323e2551862a7f7f15022d39543f62d",
     "grade": false,
     "grade_id": "cell-5a5ef833de831dee",
     "locked": false,
     "schema_version": 3,
     "solution": true,
     "task": false
    }
   },
   "outputs": [],
   "source": [
    "# corr_coeff = ...\n",
    "# YOUR CODE HERE\n",
    "raise NotImplementedError()"
   ]
  },
  {
   "cell_type": "code",
   "execution_count": null,
   "id": "483297a4",
   "metadata": {
    "deletable": false,
    "editable": false,
    "nbgrader": {
     "cell_type": "code",
     "checksum": "7e9efe7ac37be9c5fd2eb5ba90d9a2a0",
     "grade": true,
     "grade_id": "cell-917bc90470c47113",
     "locked": true,
     "points": 1,
     "schema_version": 3,
     "solution": false,
     "task": false
    }
   },
   "outputs": [],
   "source": [
    "assert_is_instance(corr_coeff, float)"
   ]
  },
  {
   "cell_type": "markdown",
   "id": "a4bf30ae",
   "metadata": {},
   "source": [
    "### Highest correlation (+ 2 bonus points)\n",
    "What is the highest correlation value between two columns in the bs dataset for the year 2021?"
   ]
  },
  {
   "cell_type": "code",
   "execution_count": null,
   "id": "7405900b",
   "metadata": {
    "deletable": false,
    "nbgrader": {
     "cell_type": "code",
     "checksum": "1c7c6e0fd07b7c2e7e3cc31fd71c535e",
     "grade": false,
     "grade_id": "cell-b841e41740bd4cfe",
     "locked": false,
     "schema_version": 3,
     "solution": true,
     "task": false
    }
   },
   "outputs": [],
   "source": [
    "# highest_correlation = ...\n",
    "# YOUR CODE HERE\n",
    "raise NotImplementedError()"
   ]
  },
  {
   "cell_type": "code",
   "execution_count": null,
   "id": "e8643f85",
   "metadata": {
    "deletable": false,
    "editable": false,
    "nbgrader": {
     "cell_type": "code",
     "checksum": "6cabbe84e61c4637bef6e774b370dbe6",
     "grade": true,
     "grade_id": "cell-9b623c8c3cb9df90",
     "locked": true,
     "points": 2,
     "schema_version": 3,
     "solution": false,
     "task": false
    }
   },
   "outputs": [],
   "source": [
    "assert_is_instance(highest_correlation, float)"
   ]
  },
  {
   "cell_type": "markdown",
   "id": "234c6e5f",
   "metadata": {},
   "source": [
    "### Plot another correlation\n",
    "Make a plot that shows you how living space per person (*wohnflaeche_pro_person*) and apartment size (*flaeche_pro_wohnung*) are correlated (a scatter plot) for the year 2021."
   ]
  },
  {
   "cell_type": "code",
   "execution_count": null,
   "id": "739ff789",
   "metadata": {
    "deletable": false,
    "nbgrader": {
     "cell_type": "code",
     "checksum": "34930d12551cf6ff0e25d13468d4fb65",
     "grade": true,
     "grade_id": "cell-c1967853363f5c89",
     "locked": false,
     "points": 0,
     "schema_version": 3,
     "solution": true,
     "task": false
    }
   },
   "outputs": [],
   "source": [
    "# YOUR CODE HERE\n",
    "raise NotImplementedError()"
   ]
  },
  {
   "cell_type": "markdown",
   "id": "1f85e7db",
   "metadata": {},
   "source": [
    "What do you notice on this plot? What kind of value do you expect for the correlation coefficient? What could be problematic about this correlation?"
   ]
  },
  {
   "cell_type": "markdown",
   "id": "ac00d397",
   "metadata": {
    "deletable": false,
    "nbgrader": {
     "cell_type": "markdown",
     "checksum": "2a022e201a1db21362c0384a9fee4d0b",
     "grade": true,
     "grade_id": "cell-bbd1af1856fa03f5",
     "locked": false,
     "points": 0,
     "schema_version": 3,
     "solution": true,
     "task": false
    }
   },
   "source": [
    "YOUR ANSWER HERE"
   ]
  },
  {
   "cell_type": "markdown",
   "id": "6e51f25a",
   "metadata": {},
   "source": [
    "### Expectations (2 points)\n",
    "What is the expected value $\\hat E$ for the amount of living space for a random person (*wohnflaeche_pro_person*) living in Basel in 2021?"
   ]
  },
  {
   "cell_type": "code",
   "execution_count": null,
   "id": "27d56084",
   "metadata": {
    "deletable": false,
    "nbgrader": {
     "cell_type": "code",
     "checksum": "1804225f557da203f2230bc73c5c81e5",
     "grade": false,
     "grade_id": "cell-540ceba74e68d292",
     "locked": false,
     "schema_version": 3,
     "solution": true,
     "task": false
    }
   },
   "outputs": [],
   "source": [
    "# living_space = ...\n",
    "# YOUR CODE HERE\n",
    "raise NotImplementedError()"
   ]
  },
  {
   "cell_type": "code",
   "execution_count": null,
   "id": "170b3848",
   "metadata": {
    "deletable": false,
    "editable": false,
    "nbgrader": {
     "cell_type": "code",
     "checksum": "705fcf38dddc6b8e175f6e73fa67e736",
     "grade": true,
     "grade_id": "cell-34ce7292b3c81829",
     "locked": true,
     "points": 2,
     "schema_version": 3,
     "solution": false,
     "task": false
    }
   },
   "outputs": [],
   "source": [
    "assert_is_instance(living_space, float)"
   ]
  },
  {
   "cell_type": "code",
   "execution_count": null,
   "id": "2ae1b2d9",
   "metadata": {},
   "outputs": [],
   "source": []
  }
 ],
 "metadata": {
  "kernelspec": {
   "display_name": "Python 3 (ipykernel)",
   "language": "python",
   "name": "python3"
  },
  "language_info": {
   "codemirror_mode": {
    "name": "ipython",
    "version": 3
   },
   "file_extension": ".py",
   "mimetype": "text/x-python",
   "name": "python",
   "nbconvert_exporter": "python",
   "pygments_lexer": "ipython3",
   "version": "3.8.12"
  }
 },
 "nbformat": 4,
 "nbformat_minor": 5
}
