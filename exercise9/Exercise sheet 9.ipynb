{
 "cells": [
  {
   "cell_type": "markdown",
   "id": "26ca8f1a",
   "metadata": {
    "deletable": false,
    "editable": false,
    "nbgrader": {
     "cell_type": "markdown",
     "checksum": "6d9c89363660e10dde95f5878ecbe069",
     "grade": false,
     "grade_id": "cell-525c2fd5f3e93d2b",
     "locked": true,
     "schema_version": 3,
     "solution": false,
     "task": false
    }
   },
   "source": [
    "# Exercise sheet 9\n",
    "**Hello everyone!**\n",
    "\n",
    "**Points: 15**\n",
    "\n",
    "Please let us know if you have questions or problems! <br>\n",
    "Contact us during the exercise session, on [ADAM](https://adam.unibas.ch/goto_adam_crs_1266890.html), [Piazza](https://piazza.com/class/kzy15kp8s5t6ku), or [via email](https://sada.dmi.unibas.ch/en/teaching/pids22).\n",
    "\n",
    "Please submit this exercise sheet on **ADAM**.\n",
    "Naming conventions:\n",
    "\n",
    "1. Make a folder called \"exercise9\".\n",
    "2. Put your submission \"Exercise sheet 9.ipynb\" in there.\n",
    "3. Complete the sheet. Only put code or text inside the blocks where \"# YOUR CODE HERE\" or \"YOUR ANSWER HERE\" is written. Everything else will be deleted during grading. Don't add new blocks.\n",
    "4. Then zip the folder called \"exercise9\". This will create a zip file called \"exercise9.zip\". Rename that zip file to your Unibas short name, e.g. \"blabla0000.zip\".\n",
    "\n",
    "Common mistakes:\n",
    "- Don't use capital letter for your identification name, or the exercise folder.\n",
    "- Don't put previous sheet or dataset on the submission folders. Just the sheet, ipynb format.\n",
    "\n",
    "\n",
    "\n",
    "**Handout date**: 2022/05/10 <br>\n",
    "**Submission date**: 2022/05/17 <br>"
   ]
  },
  {
   "cell_type": "code",
   "execution_count": 1,
   "id": "ba40951b",
   "metadata": {
    "deletable": false,
    "editable": false,
    "nbgrader": {
     "cell_type": "code",
     "checksum": "d08ada4e14997dcf2689a6b19b3beb2d",
     "grade": false,
     "grade_id": "cell-41524afeb7ebe206",
     "locked": true,
     "schema_version": 3,
     "solution": false,
     "task": false
    }
   },
   "outputs": [],
   "source": [
    "import pandas as pd\n",
    "import seaborn as sns\n",
    "import matplotlib.pyplot as plt\n",
    "import numpy as np\n",
    "from scipy import stats\n",
    "from scipy.stats import norm\n",
    "from nose.tools import assert_is_instance, assert_equal, assert_almost_equal, assert_true"
   ]
  },
  {
   "cell_type": "markdown",
   "id": "38ad6ff7",
   "metadata": {
    "deletable": false,
    "editable": false,
    "nbgrader": {
     "cell_type": "markdown",
     "checksum": "5cf6a2586e24ba65a291845f39be035d",
     "grade": false,
     "grade_id": "cell-4637965bfae8d65f",
     "locked": true,
     "schema_version": 3,
     "solution": false,
     "task": false
    }
   },
   "source": [
    "# More uncertainty and confidence intervals!\n",
    "In this notebook we will get more and more confidence on confidence intervals. \n",
    "This sheet should be handled quickly if you understood the two previous sheets well (especially sheet 7).\n",
    "This notebook contains more mathematical notations that usually. However, there are here only to make the exercise clear. You won't need to run difficult computations other than empirical mean and empirical standard deviation.\n"
   ]
  },
  {
   "cell_type": "markdown",
   "id": "40a58790",
   "metadata": {
    "deletable": false,
    "editable": false,
    "nbgrader": {
     "cell_type": "markdown",
     "checksum": "2fe51f943deff0e0499a6319a43cef9d",
     "grade": false,
     "grade_id": "cell-53460d34058f3491",
     "locked": true,
     "schema_version": 3,
     "solution": false,
     "task": false
    }
   },
   "source": [
    "# Titanic dataset\n",
    "We are working with a dataset containing information about passengers of the sadly famous Titanic. We will see how we can use tools from the lecture to get a sense of what factors are important to increase our probability of survival during a shipwreck.<br>\n",
    "\n",
    "In this first part, we will load the dataset, and plot a few values to see what could be the important parameters. In a second part, we will focus on one particular feature and see if you can trust the dataset."
   ]
  },
  {
   "cell_type": "markdown",
   "id": "fb81b57e",
   "metadata": {
    "deletable": false,
    "editable": false,
    "nbgrader": {
     "cell_type": "markdown",
     "checksum": "bc202fc6edf7dff876b0a4df48ed83dd",
     "grade": false,
     "grade_id": "cell-626919b1facd1abd",
     "locked": true,
     "schema_version": 3,
     "solution": false,
     "task": false
    }
   },
   "source": [
    "We first load the dataset. If you are working locally, you should be able to load the dataset from the csv file name 'train.csv', in the same location as this current file."
   ]
  },
  {
   "cell_type": "code",
   "execution_count": 2,
   "id": "af473f8c",
   "metadata": {
    "deletable": false,
    "editable": false,
    "nbgrader": {
     "cell_type": "code",
     "checksum": "ec7e5a0ae493c0abdda201e260b87565",
     "grade": false,
     "grade_id": "cell-de32fce7c84d1792",
     "locked": true,
     "schema_version": 3,
     "solution": false,
     "task": false
    }
   },
   "outputs": [
    {
     "data": {
      "text/html": [
       "<div>\n",
       "<style scoped>\n",
       "    .dataframe tbody tr th:only-of-type {\n",
       "        vertical-align: middle;\n",
       "    }\n",
       "\n",
       "    .dataframe tbody tr th {\n",
       "        vertical-align: top;\n",
       "    }\n",
       "\n",
       "    .dataframe thead th {\n",
       "        text-align: right;\n",
       "    }\n",
       "</style>\n",
       "<table border=\"1\" class=\"dataframe\">\n",
       "  <thead>\n",
       "    <tr style=\"text-align: right;\">\n",
       "      <th></th>\n",
       "      <th>PassengerId</th>\n",
       "      <th>Survived</th>\n",
       "      <th>Pclass</th>\n",
       "      <th>Name</th>\n",
       "      <th>Sex</th>\n",
       "      <th>Age</th>\n",
       "      <th>SibSp</th>\n",
       "      <th>Parch</th>\n",
       "      <th>Ticket</th>\n",
       "      <th>Fare</th>\n",
       "      <th>Cabin</th>\n",
       "      <th>Embarked</th>\n",
       "    </tr>\n",
       "  </thead>\n",
       "  <tbody>\n",
       "    <tr>\n",
       "      <th>0</th>\n",
       "      <td>1</td>\n",
       "      <td>0</td>\n",
       "      <td>3</td>\n",
       "      <td>Braund, Mr. Owen Harris</td>\n",
       "      <td>male</td>\n",
       "      <td>22.0</td>\n",
       "      <td>1</td>\n",
       "      <td>0</td>\n",
       "      <td>A/5 21171</td>\n",
       "      <td>7.2500</td>\n",
       "      <td>NaN</td>\n",
       "      <td>S</td>\n",
       "    </tr>\n",
       "    <tr>\n",
       "      <th>1</th>\n",
       "      <td>2</td>\n",
       "      <td>1</td>\n",
       "      <td>1</td>\n",
       "      <td>Cumings, Mrs. John Bradley (Florence Briggs Th...</td>\n",
       "      <td>female</td>\n",
       "      <td>38.0</td>\n",
       "      <td>1</td>\n",
       "      <td>0</td>\n",
       "      <td>PC 17599</td>\n",
       "      <td>71.2833</td>\n",
       "      <td>C85</td>\n",
       "      <td>C</td>\n",
       "    </tr>\n",
       "    <tr>\n",
       "      <th>2</th>\n",
       "      <td>3</td>\n",
       "      <td>1</td>\n",
       "      <td>3</td>\n",
       "      <td>Heikkinen, Miss. Laina</td>\n",
       "      <td>female</td>\n",
       "      <td>26.0</td>\n",
       "      <td>0</td>\n",
       "      <td>0</td>\n",
       "      <td>STON/O2. 3101282</td>\n",
       "      <td>7.9250</td>\n",
       "      <td>NaN</td>\n",
       "      <td>S</td>\n",
       "    </tr>\n",
       "    <tr>\n",
       "      <th>3</th>\n",
       "      <td>4</td>\n",
       "      <td>1</td>\n",
       "      <td>1</td>\n",
       "      <td>Futrelle, Mrs. Jacques Heath (Lily May Peel)</td>\n",
       "      <td>female</td>\n",
       "      <td>35.0</td>\n",
       "      <td>1</td>\n",
       "      <td>0</td>\n",
       "      <td>113803</td>\n",
       "      <td>53.1000</td>\n",
       "      <td>C123</td>\n",
       "      <td>S</td>\n",
       "    </tr>\n",
       "    <tr>\n",
       "      <th>4</th>\n",
       "      <td>5</td>\n",
       "      <td>0</td>\n",
       "      <td>3</td>\n",
       "      <td>Allen, Mr. William Henry</td>\n",
       "      <td>male</td>\n",
       "      <td>35.0</td>\n",
       "      <td>0</td>\n",
       "      <td>0</td>\n",
       "      <td>373450</td>\n",
       "      <td>8.0500</td>\n",
       "      <td>NaN</td>\n",
       "      <td>S</td>\n",
       "    </tr>\n",
       "  </tbody>\n",
       "</table>\n",
       "</div>"
      ],
      "text/plain": [
       "   PassengerId  Survived  Pclass  \\\n",
       "0            1         0       3   \n",
       "1            2         1       1   \n",
       "2            3         1       3   \n",
       "3            4         1       1   \n",
       "4            5         0       3   \n",
       "\n",
       "                                                Name     Sex   Age  SibSp  \\\n",
       "0                            Braund, Mr. Owen Harris    male  22.0      1   \n",
       "1  Cumings, Mrs. John Bradley (Florence Briggs Th...  female  38.0      1   \n",
       "2                             Heikkinen, Miss. Laina  female  26.0      0   \n",
       "3       Futrelle, Mrs. Jacques Heath (Lily May Peel)  female  35.0      1   \n",
       "4                           Allen, Mr. William Henry    male  35.0      0   \n",
       "\n",
       "   Parch            Ticket     Fare Cabin Embarked  \n",
       "0      0         A/5 21171   7.2500   NaN        S  \n",
       "1      0          PC 17599  71.2833   C85        C  \n",
       "2      0  STON/O2. 3101282   7.9250   NaN        S  \n",
       "3      0            113803  53.1000  C123        S  \n",
       "4      0            373450   8.0500   NaN        S  "
      ]
     },
     "execution_count": 2,
     "metadata": {},
     "output_type": "execute_result"
    }
   ],
   "source": [
    "import pandas as pd\n",
    "data_source = \"https://raw.githubusercontent.com/paulhendricks/titanic/master/inst/data-raw/train.csv\"\n",
    "data = pd.read_csv(data_source)\n",
    "data.head()"
   ]
  },
  {
   "cell_type": "markdown",
   "id": "b8a7064f",
   "metadata": {
    "deletable": false,
    "editable": false,
    "nbgrader": {
     "cell_type": "markdown",
     "checksum": "cd91b645023e71f30f5bf272d8b184b9",
     "grade": false,
     "grade_id": "cell-b28895179eafb8c6",
     "locked": true,
     "schema_version": 3,
     "solution": false,
     "task": false
    }
   },
   "source": [
    "Among the passengeners that survived, display the proportion (histogram) of each 'Pclass'.<br>\n",
    "On the same plot, display the same histogram for the passengers that didn't survive.<br>\n",
    "Hint: you can use plt.hist."
   ]
  },
  {
   "cell_type": "code",
   "execution_count": 3,
   "id": "3d75bbf6",
   "metadata": {
    "deletable": false,
    "nbgrader": {
     "cell_type": "code",
     "checksum": "680a4e2e559532870b66776e3da40107",
     "grade": false,
     "grade_id": "cell-ede3d355a0957fbe",
     "locked": false,
     "schema_version": 3,
     "solution": true,
     "task": false
    }
   },
   "outputs": [
    {
     "data": {
      "image/png": "[encoded data removed]",
      "text/plain": [
       "<Figure size 432x288 with 1 Axes>"
      ]
     },
     "metadata": {
      "needs_background": "light"
     },
     "output_type": "display_data"
    }
   ],
   "source": [
    "# YOUR CODE H\n",
    "data_surv = data.loc[data.Survived == 1, \"Pclass\"]\n",
    "\n",
    "kwargs = dict(alpha=1, bins=10)\n",
    "\n",
    "plt.hist(data_surv, **kwargs, color='g',align=\"left\")\n",
    "\n",
    "\n",
    "data_nsurv = data.loc[data.Survived == 0, \"Pclass\"]\n",
    "\n",
    "\n",
    "plt.hist(data_nsurv, **kwargs, color='r', label='Class 1',align=\"right\")\n",
    "\n",
    "\n",
    "plt.legend([\"died\", \"survived\"])\n",
    "plt.xticks([1,2,3])\n",
    "plt.title(\"Count by deathstatus and class\");\n",
    "#raise NotImplementedError()\n"
   ]
  },
  {
   "cell_type": "markdown",
   "id": "528ba721",
   "metadata": {
    "deletable": false,
    "editable": false,
    "nbgrader": {
     "cell_type": "markdown",
     "checksum": "db00ecf83d330bd6f2e62e9adfe93866",
     "grade": false,
     "grade_id": "cell-e44d240b6d693930",
     "locked": true,
     "schema_version": 3,
     "solution": false,
     "task": false
    }
   },
   "source": [
    "Among the passengeners that survived, display the proportion (histogram) of each 'Fare'.<br>\n",
    "On the same plot, display the same histogram for the passengers that didn't survive.<br>\n",
    "Hint: you can use plt.hist."
   ]
  },
  {
   "cell_type": "code",
   "execution_count": 4,
   "id": "f27913b3",
   "metadata": {
    "deletable": false,
    "nbgrader": {
     "cell_type": "code",
     "checksum": "ba58c11f018762b672e6d9a5c717a9a8",
     "grade": false,
     "grade_id": "cell-f95caf2cb1886049",
     "locked": false,
     "schema_version": 3,
     "solution": true,
     "task": false
    }
   },
   "outputs": [
    {
     "data": {
      "text/plain": [
       "<matplotlib.legend.Legend at 0x7f325794d670>"
      ]
     },
     "execution_count": 4,
     "metadata": {},
     "output_type": "execute_result"
    },
    {
     "data": {
      "image/png": "[encoded data removed]",
      "text/plain": [
       "<Figure size 720x576 with 2 Axes>"
      ]
     },
     "metadata": {
      "needs_background": "light"
     },
     "output_type": "display_data"
    }
   ],
   "source": [
    "# YOUR CODE HERE\n",
    "data_surv = data.loc[data.Survived == 1, \"Fare\"]\n",
    "\n",
    "kwargs = dict(alpha=1, bins=10)\n",
    "fig,axes = plt.subplots(1,2, sharex=True, sharey=True,figsize=(10,8))\n",
    "fig.suptitle(\"Count by deathstatus and fare\");\n",
    "axes[0].hist(data_surv, **kwargs, color='g')\n",
    "\n",
    "\n",
    "data_nsurv = data.loc[data.Survived == 0, \"Fare\"]\n",
    "\n",
    "\n",
    "axes[1].hist(data_nsurv, **kwargs, color='r', label='Class 1')\n",
    "\n",
    "\n",
    "fig.legend([\"survived\", \"died\"])\n",
    "#\n",
    "# plt.xticks([1,2,3])\n",
    "\n",
    "#raise NotImplementedError()"
   ]
  },
  {
   "cell_type": "markdown",
   "id": "80327103",
   "metadata": {
    "deletable": false,
    "editable": false,
    "nbgrader": {
     "cell_type": "markdown",
     "checksum": "993e844cf0474a7d08fba1e7ca1ec2fc",
     "grade": false,
     "grade_id": "cell-f5f3401d73531224",
     "locked": true,
     "schema_version": 3,
     "solution": false,
     "task": false
    }
   },
   "source": [
    "Among the passengeners that survived, display the proportion (histogram) of each age.<br>\n",
    "On the same plot, display the same histogram for the passengers that didn't survive.<br>\n",
    "Hint: you can use plt.hist."
   ]
  },
  {
   "cell_type": "code",
   "execution_count": 5,
   "id": "f1f04447",
   "metadata": {
    "deletable": false,
    "nbgrader": {
     "cell_type": "code",
     "checksum": "76a63098d0d0714f9afb06285b35c9e2",
     "grade": false,
     "grade_id": "cell-0da4e66b7921cec4",
     "locked": false,
     "schema_version": 3,
     "solution": true,
     "task": false
    }
   },
   "outputs": [
    {
     "data": {
      "text/plain": [
       "<matplotlib.legend.Legend at 0x7f32578229a0>"
      ]
     },
     "execution_count": 5,
     "metadata": {},
     "output_type": "execute_result"
    },
    {
     "data": {
      "image/png": "[encoded data removed]",
      "text/plain": [
       "<Figure size 720x576 with 2 Axes>"
      ]
     },
     "metadata": {
      "needs_background": "light"
     },
     "output_type": "display_data"
    }
   ],
   "source": [
    "# YOUR CODE HERE\n",
    "data_surv = data.loc[data.Survived == 1, \"Age\"]\n",
    "\n",
    "kwargs = dict(alpha=1, bins=data_surv.nunique())\n",
    "fig,axes = plt.subplots(1,2, sharex=True, sharey=True,figsize=(10,8))\n",
    "fig.suptitle(\"Count by deathstatus and Age\");\n",
    "axes[0].hist(data_surv, **kwargs, color='g')\n",
    "\n",
    "\n",
    "data_nsurv = data.loc[data.Survived == 0, \"Age\"]\n",
    "\n",
    "\n",
    "axes[1].hist(data_nsurv, **kwargs, color='r', label='Class 1')\n",
    "\n",
    "\n",
    "fig.legend([\"survived\", \"died\"])\n",
    "#raise NotImplementedError()"
   ]
  },
  {
   "cell_type": "markdown",
   "id": "74cf6dde",
   "metadata": {
    "deletable": false,
    "editable": false,
    "nbgrader": {
     "cell_type": "markdown",
     "checksum": "b5109e7fcdaafc1b7b4b9e31a70b8b6f",
     "grade": false,
     "grade_id": "cell-1614b841c240181a",
     "locked": true,
     "schema_version": 3,
     "solution": false,
     "task": false
    }
   },
   "source": [
    "Display on the same plot, the proportion of female that survived and the proportion of male. Hint: you can use plt.hist.<br>\n",
    "Among the passengers, compute the proportion of survivors that are women and store it in *surv_female*.<br>\n",
    "Among the passengers, compute the proportion of survivors that are men and store it in *surv_male*.\n"
   ]
  },
  {
   "cell_type": "code",
   "execution_count": 6,
   "id": "cd3839dc",
   "metadata": {
    "deletable": false,
    "nbgrader": {
     "cell_type": "code",
     "checksum": "a4cfe60fdb29fca9f2884637bafec1c8",
     "grade": false,
     "grade_id": "cell-a66ee7dc2a8b5ed1",
     "locked": false,
     "schema_version": 3,
     "solution": true,
     "task": false
    }
   },
   "outputs": [
    {
     "data": {
      "image/png": "[encoded data removed]",
      "text/plain": [
       "<Figure size 432x288 with 1 Axes>"
      ]
     },
     "metadata": {
      "needs_background": "light"
     },
     "output_type": "display_data"
    }
   ],
   "source": [
    "# YOUR CODE HERE\n",
    "data_surv = data.loc[data.Survived == 1, \"Sex\"]\n",
    "\n",
    "kwargs = dict(alpha=1, bins=10)\n",
    "\n",
    "plt.hist(data_surv, **kwargs, color='g',align=\"left\")\n",
    "\n",
    "\n",
    "data_nsurv = data.loc[data.Survived == 0, \"Sex\"]\n",
    "\n",
    "\n",
    "plt.hist(data_nsurv, **kwargs, color='r', label='Class 1',align=\"right\")\n",
    "\n",
    "\n",
    "plt.legend([\"died\", \"survived\"])\n",
    "\n",
    "plt.title(\"Count by deathstatus and Sex\");\n",
    "#raise NotImplementedError()\n",
    "\n",
    "surv_female = data_surv.loc[data_surv.values == \"female\"].count() / data_surv.count()\n",
    "surv_male = data_surv.loc[data_surv.values == \"male\"].count() / data_surv.count()\n",
    "# YOUR CODE HERE\n",
    "#raise NotImplementedError()"
   ]
  },
  {
   "cell_type": "code",
   "execution_count": 7,
   "id": "c21b6c68",
   "metadata": {
    "deletable": false,
    "editable": false,
    "nbgrader": {
     "cell_type": "code",
     "checksum": "67e11bf871af85ab84229dd2f8034449",
     "grade": true,
     "grade_id": "cell-98737fddf6b72220",
     "locked": true,
     "points": 2,
     "schema_version": 3,
     "solution": false,
     "task": false
    }
   },
   "outputs": [
    {
     "name": "stdout",
     "output_type": "stream",
     "text": [
      "0.6812865497076024\n",
      "0.31871345029239767\n"
     ]
    }
   ],
   "source": [
    "print(surv_female)\n",
    "print(surv_male)"
   ]
  },
  {
   "cell_type": "markdown",
   "id": "468e95a2",
   "metadata": {
    "deletable": false,
    "editable": false,
    "nbgrader": {
     "cell_type": "markdown",
     "checksum": "9168f35971d7be21e3caaf24caa56e79",
     "grade": false,
     "grade_id": "cell-b8d8461a1b1e2d4c",
     "locked": true,
     "schema_version": 3,
     "solution": false,
     "task": false
    }
   },
   "source": [
    "## Will your sex increase or decrease your probability of survival?\n",
    "\n",
    "Let $(X_i)_{i\\leq N_X} \\overset{i.i.d.}{\\sim} \\mathrm{Ber}(p_X)$ denote $N_X$ Bernoulli random variables that model the outcome of a female on the Titanic. <br>\n",
    "Let $(Y_i)_{i\\leq N_Y} \\overset{i.i.d.}{\\sim} \\mathrm{Ber}(p_Y)$ denote $N_Y$ Bernoulli random variables that model the outcome of a male on the Titanic.<br>\n",
    "\n",
    "We aim at estimating the probailty of survival $p_X$ and $p_Y$."
   ]
  },
  {
   "cell_type": "markdown",
   "id": "f9f74d15",
   "metadata": {
    "deletable": false,
    "editable": false,
    "nbgrader": {
     "cell_type": "markdown",
     "checksum": "4319dfce67509bb13a4645a29922d8fc",
     "grade": false,
     "grade_id": "cell-dc490e5fa8151ae5",
     "locked": true,
     "schema_version": 3,
     "solution": false,
     "task": false
    }
   },
   "source": [
    "Ideally we would like to get the values $p_X = \\mathbb{E}[X_i]$ and $p_Y = \\mathbb{E}[Y_i]$. Unfortunately, we only have access to the $N_X$ realizations $(X_i)$ and $N_Y$ realization $(Y_i)$. <br>\n",
    "\n",
    "Use the law of large numbers to create an estimate $\\hat p_X$ of $p_X$ and an estimate $\\hat p_Y$ of $p_Y$. Name these estimators *pX_hat* and *pY_hat*."
   ]
  },
  {
   "cell_type": "code",
   "execution_count": 8,
   "id": "fe52d941",
   "metadata": {
    "deletable": false,
    "nbgrader": {
     "cell_type": "code",
     "checksum": "a5d0664c070bbaec88328552ffc6457e",
     "grade": false,
     "grade_id": "cell-f870da6474590bea",
     "locked": false,
     "schema_version": 3,
     "solution": true,
     "task": false
    }
   },
   "outputs": [],
   "source": [
    "pX_hat = data.loc[data.Sex == \"female\", \"Survived\"].sum() / data.loc[data.Sex == \"female\",\"Survived\"].count()\n",
    "pY_hat = data.loc[data.Sex == \"male\", \"Survived\"].sum() / data.loc[data.Sex == \"male\", \"Survived\"].count()\n",
    "# YOUR CODE HERE\n",
    "#raise NotImplementedError()"
   ]
  },
  {
   "cell_type": "code",
   "execution_count": 9,
   "id": "a608aaa2",
   "metadata": {
    "deletable": false,
    "editable": false,
    "nbgrader": {
     "cell_type": "code",
     "checksum": "e8427c80b9794162aeeef2ddb1501ed2",
     "grade": true,
     "grade_id": "cell-604fcaba3e728967",
     "locked": true,
     "points": 2,
     "schema_version": 3,
     "solution": false,
     "task": false
    }
   },
   "outputs": [
    {
     "name": "stdout",
     "output_type": "stream",
     "text": [
      "0.7420382165605095\n",
      "0.18890814558058924\n"
     ]
    }
   ],
   "source": [
    "print(pX_hat)\n",
    "print(pY_hat)\n",
    "assert_almost_equal(pX_hat , 0.7420382165605095 , places=2)\n",
    "assert_almost_equal(pY_hat , 0.18890814558058924 , places=2)"
   ]
  },
  {
   "cell_type": "markdown",
   "id": "b739f41a",
   "metadata": {
    "deletable": false,
    "editable": false,
    "nbgrader": {
     "cell_type": "markdown",
     "checksum": "474e71805b7a3157f3ad35dfd41375eb",
     "grade": false,
     "grade_id": "cell-c0d8be22c9907c69",
     "locked": true,
     "schema_version": 3,
     "solution": false,
     "task": false
    }
   },
   "source": [
    "Let's do some math (or follow slides of lecture 10).<br>\n",
    "We have some estimate for $p_X$ and $p_Y$, but we would like to know if we can trust them. <br>\n",
    "\n",
    "Let's first focus of $p_X$. <br>\n",
    "We want to compute the probability $p_{trust X}$\n",
    "$$ p_{trust X} = \\mathbb{P}\\left( p_X-0.05 \\leq \\hat X \\leq p + 0.05 \\right). $$\n",
    "\n",
    "Based the central limit theorem, we'll make the assumption that $\\hat p_X \\sim \\mathcal{N}(p_X, \\sigma^2/N_X)$.<br>\n",
    "Then, following slides of lecture 10 (p18, p19), we have\n",
    "$$ p_{trust X} = \\mathbb{P}\\left( Z \\leq 0.05\\sqrt{ \\frac{N_X}{p_X(1-p_X)}} \\right)-\\mathbb{P}\\left( Z \\leq -0.05\\sqrt{ \\frac{N_X}{p_X(1-p_X)}} \\right), $$\n",
    "where $Z\\sim \\mathcal{N}(0,1)$. <br>\n",
    "As mentioned during the lecture, we don't know $p_X(1-p_X)$. Let's replace this term by $\\hat p_X(1-\\hat p_X)$.\n"
   ]
  },
  {
   "cell_type": "markdown",
   "id": "d8a1d178",
   "metadata": {},
   "source": [
    "\n",
    "\n",
    "Compute the value \n",
    "$$ p1 = \\mathbb{P}\\left( Z \\leq 0.05\\sqrt{ \\frac{N_X}{\\hat p_X(1-\\hat p_X)}} \\right)$$\n",
    "and \n",
    "$$ p2 = \\mathbb{P}\\left( Z \\leq -0.05\\sqrt{ \\frac{N_X}{\\hat p_X(1-\\hat p_X)}} \\right).$$\n",
    "Store these values in variables named $p1$ and $p2$.<br>\n",
    "Hint: you can have access to the cumulative distribvutuion function (cdf) of a Gaussian random variable by using the function *norm* (for normal) form the library *scipy.stats* (already imported)."
   ]
  },
  {
   "cell_type": "code",
   "execution_count": 10,
   "id": "d2e0c187",
   "metadata": {
    "deletable": false,
    "editable": false,
    "nbgrader": {
     "cell_type": "code",
     "checksum": "29eb739c0d80ca3a352acd6b1368572f",
     "grade": false,
     "grade_id": "cell-07b154e3463af849",
     "locked": true,
     "schema_version": 3,
     "solution": false,
     "task": false
    }
   },
   "outputs": [],
   "source": [
    "# Leave this block. \n",
    "# This is to make sure that your next answer can still bring you points even if you make a mistake previously.\n",
    "pX_hat = 0.7420382165605095\n",
    "pY_hat = 0.18890814558058924"
   ]
  },
  {
   "cell_type": "code",
   "execution_count": 11,
   "id": "750bae21",
   "metadata": {
    "deletable": false,
    "nbgrader": {
     "cell_type": "code",
     "checksum": "60cba5081ea7f281fa6f1800209a9def",
     "grade": false,
     "grade_id": "cell-11532a187e7a16cc",
     "locked": false,
     "schema_version": 3,
     "solution": true,
     "task": false
    }
   },
   "outputs": [],
   "source": [
    "# YOUR CODE HERE\n",
    "#raise NotImplementedError()\n",
    "\n",
    "p1 = norm.cdf(0.05*np.sqrt(float(data.loc[data.Sex == \"female\", \"Survived\"].count())/(pX_hat*(1-pX_hat))))\n",
    "p2 = norm.cdf(-0.05*np.sqrt(float(data.loc[data.Sex == \"female\", \"Survived\"].count())/(pX_hat*(1-pX_hat))))"
   ]
  },
  {
   "cell_type": "code",
   "execution_count": 12,
   "id": "a9f34e03",
   "metadata": {
    "deletable": false,
    "editable": false,
    "nbgrader": {
     "cell_type": "code",
     "checksum": "4856295760c5acdaee9f4a0cdbcf1d3d",
     "grade": true,
     "grade_id": "cell-20da3526a3f1f163",
     "locked": true,
     "points": 3,
     "schema_version": 3,
     "solution": false,
     "task": false
    }
   },
   "outputs": [
    {
     "name": "stdout",
     "output_type": "stream",
     "text": [
      "0.978570861003359 0.02142913899664103\n"
     ]
    }
   ],
   "source": [
    "print(p1, p2)\n",
    "assert_almost_equal(p1 , 0.978570861003359 , places=2)\n",
    "assert_almost_equal(p2 , 0.02142913899664103 , places=2)"
   ]
  },
  {
   "cell_type": "markdown",
   "id": "a2dc4f4d",
   "metadata": {
    "deletable": false,
    "editable": false,
    "nbgrader": {
     "cell_type": "markdown",
     "checksum": "cf70a22c7b8859e70e4fcd02868d0f75",
     "grade": false,
     "grade_id": "cell-97dc9411b2c42168",
     "locked": true,
     "schema_version": 3,
     "solution": false,
     "task": false
    }
   },
   "source": [
    "Based on the previous assumptions, what is the probability that $\\hat p_X \\in [p_X - 0.05, p_X+0.05]$? Store your answer in a variable named *proba_trust_X*."
   ]
  },
  {
   "cell_type": "code",
   "execution_count": 13,
   "id": "507950d6",
   "metadata": {
    "deletable": false,
    "editable": false,
    "nbgrader": {
     "cell_type": "code",
     "checksum": "e763284b93b793843986c61f3c0da8ee",
     "grade": false,
     "grade_id": "cell-e521bceb049a274c",
     "locked": true,
     "schema_version": 3,
     "solution": false,
     "task": false
    }
   },
   "outputs": [],
   "source": [
    "# Leave this block. \n",
    "# This is to make sure that your next answer can still bring you points even if you make a mistake previously.\n",
    "p1 = 0.978570861003359\n",
    "p2 = 0.02142913899664103 "
   ]
  },
  {
   "cell_type": "code",
   "execution_count": 14,
   "id": "61c1cca9",
   "metadata": {
    "deletable": false,
    "nbgrader": {
     "cell_type": "code",
     "checksum": "21d1743dd784c60a45efacb3d0ec9708",
     "grade": false,
     "grade_id": "cell-c5f50be87fabc3a0",
     "locked": false,
     "schema_version": 3,
     "solution": true,
     "task": false
    }
   },
   "outputs": [],
   "source": [
    "proba_trust_X = p1-p2\n",
    "# YOUR CODE HERE\n",
    "#raise NotImplementedError()"
   ]
  },
  {
   "cell_type": "code",
   "execution_count": 15,
   "id": "fa60e8fe",
   "metadata": {
    "deletable": false,
    "editable": false,
    "nbgrader": {
     "cell_type": "code",
     "checksum": "2c83ef0933f7be0620658ab9479d32e3",
     "grade": true,
     "grade_id": "cell-84718dfa47b17516",
     "locked": true,
     "points": 2,
     "schema_version": 3,
     "solution": false,
     "task": false
    }
   },
   "outputs": [
    {
     "name": "stdout",
     "output_type": "stream",
     "text": [
      "0.957141722006718\n"
     ]
    }
   ],
   "source": [
    "print(proba_trust_X)\n",
    "assert_almost_equal(proba_trust_X , 0.957141722006718 , places=2)"
   ]
  },
  {
   "cell_type": "markdown",
   "id": "ef0b1f10",
   "metadata": {
    "deletable": false,
    "editable": false,
    "nbgrader": {
     "cell_type": "markdown",
     "checksum": "c174faf8c180b604a9276a79cfd537e6",
     "grade": false,
     "grade_id": "cell-1559a3e0780d2fad",
     "locked": true,
     "schema_version": 3,
     "solution": false,
     "task": false
    }
   },
   "source": [
    "Using a similar approach, compute the probability that $\\hat p_Y \\in [p_Y - 0.05, p_Y+0.05]$? Store your answer in a variable named *proba_trust_Y*."
   ]
  },
  {
   "cell_type": "code",
   "execution_count": 16,
   "id": "7dcf8b6f",
   "metadata": {
    "deletable": false,
    "nbgrader": {
     "cell_type": "code",
     "checksum": "5c07e2583b2d31f698891c3499fe7a5c",
     "grade": false,
     "grade_id": "cell-b6aeee80244a9dd3",
     "locked": false,
     "schema_version": 3,
     "solution": true,
     "task": false
    }
   },
   "outputs": [],
   "source": [
    "# YOUR CODE HERE\n",
    "p1_y = norm.cdf(0.05*np.sqrt(float(data.loc[data.Sex == \"male\", \"Survived\"].count())/(pY_hat*(1-pY_hat))))\n",
    "p2_y = norm.cdf(-0.05*np.sqrt(float(data.loc[data.Sex == \"male\", \"Survived\"].count())/(pY_hat*(1-pY_hat))))\n",
    "proba_trust_Y = p1_y-p2_y\n",
    "#raise NotImplementedError()"
   ]
  },
  {
   "cell_type": "markdown",
   "id": "540fbb94",
   "metadata": {
    "deletable": false,
    "editable": false,
    "nbgrader": {
     "cell_type": "markdown",
     "checksum": "438cf749cb07ea853bb2b6a8e1306d43",
     "grade": false,
     "grade_id": "cell-d6958f47450d57fb",
     "locked": true,
     "schema_version": 3,
     "solution": false,
     "task": false
    }
   },
   "source": [
    "# What about the children?\n",
    "Should we remove the children in the previous analysis about the sex? If we do so, the number of women drop from 314 to 259. And we have seen in the lecture that the lower the number of sample, the worse is the confidence interval. \n",
    "<br>\n",
    "But anyway, let's finish by checking that children have a very high probability of survival. Compute the probability of survival of a child (age<18) and store it in *proba_surv_child*.\n"
   ]
  },
  {
   "cell_type": "code",
   "execution_count": 17,
   "id": "eb47998b",
   "metadata": {
    "deletable": false,
    "nbgrader": {
     "cell_type": "code",
     "checksum": "222f34a79d266c8586f8d00dad75ea75",
     "grade": false,
     "grade_id": "cell-f85e1d8e3c4f0049",
     "locked": false,
     "schema_version": 3,
     "solution": true,
     "task": false
    }
   },
   "outputs": [],
   "source": [
    "proba_surv_child = data.loc[data.Age < 18, \"Survived\"].sum() /data.loc[data.Age < 18, \"Survived\"].count()\n",
    "# YOUR CODE HERE\n",
    "#raise NotImplementedError()"
   ]
  },
  {
   "cell_type": "code",
   "execution_count": 18,
   "id": "02bebb94",
   "metadata": {
    "deletable": false,
    "editable": false,
    "nbgrader": {
     "cell_type": "code",
     "checksum": "ce7cf525bdd777b9edda82b907451417",
     "grade": true,
     "grade_id": "cell-5e346eed49d5396b",
     "locked": true,
     "points": 2,
     "schema_version": 3,
     "solution": false,
     "task": false
    }
   },
   "outputs": [
    {
     "name": "stdout",
     "output_type": "stream",
     "text": [
      "0.5398230088495575\n"
     ]
    }
   ],
   "source": [
    "print(proba_surv_child)"
   ]
  },
  {
   "cell_type": "code",
   "execution_count": null,
   "id": "c6506bf2",
   "metadata": {},
   "outputs": [],
   "source": []
  }
 ],
 "metadata": {
  "kernelspec": {
   "display_name": "Python 3 (ipykernel)",
   "language": "python",
   "name": "python3"
  },
  "language_info": {
   "codemirror_mode": {
    "name": "ipython",
    "version": 3
   },
   "file_extension": ".py",
   "mimetype": "text/x-python",
   "name": "python",
   "nbconvert_exporter": "python",
   "pygments_lexer": "ipython3",
   "version": "3.8.10"
  }
 },
 "nbformat": 4,
 "nbformat_minor": 5
}
