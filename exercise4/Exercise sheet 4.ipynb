{
 "cells": [
  {
   "cell_type": "markdown",
   "id": "143da206-855c-4e76-b521-5a04ea36c809",
   "metadata": {},
   "source": [
    "# Exercise sheet 4\n",
    "**Hello everyone!**\n",
    "\n",
    "**Points: 15**\n",
    "\n",
    "Topics of this exercise sheet are:\n",
    "* Working with seaborn\n",
    "* Data visualization principles\n",
    "\n",
    "Please let us know if you have questions or problems! <br>\n",
    "Contact us during the exercise session, on [ADAM](https://adam.unibas.ch/goto_adam_crs_1266890.html), [Piazza](https://piazza.com/class/kzy15kp8s5t6ku), or [via email](https://sada.dmi.unibas.ch/en/teaching/pids22).\n",
    "\n",
    "Please submit this exercise sheet on **ADAM**.\n",
    "Naming conventions:\n",
    "* Name of notebook: \"Exercise sheet 4.ipynb\"\n",
    "* Please put it in a folder structure like this: \"your_unibas_short_name/Exercise4/Exercise sheet 4.ipynb\"\n",
    "* You can find your unibas short name either...\n",
    "    * by looking at the filename of the feedback on exercise sheet 2 (from ADAM)\n",
    "    * or if you didn't submit exercise sheet 2, log in to viaweb.unibas.ch and you will see your unibas short name after the welcome message\n",
    "* Then zip this folder and upload it on ADAM.\n",
    "\n",
    "**Handout date**: 2022/03/28 <br>\n",
    "**Submission date**: 2022/04/04 <br>\n",
    "**Discussion date**: 2022/04/05"
   ]
  },
  {
   "cell_type": "code",
   "execution_count": null,
   "id": "31e9f01a-6c24-471c-be23-a6b5ea19df84",
   "metadata": {},
   "outputs": [],
   "source": [
    "import pandas as pd\n",
    "import seaborn as sns\n",
    "import matplotlib.pyplot as plt\n",
    "import numpy as np\n",
    "from nose.tools import assert_is_instance, assert_equal, assert_almost_equal, assert_true"
   ]
  },
  {
   "cell_type": "markdown",
   "id": "c39cd4ed-52b7-49ae-988e-9a4973537725",
   "metadata": {},
   "source": [
    "## 1 (5 points)\n",
    "\n",
    "### 1a (1 point)\n",
    "We will use data from [Kaggle](https://www.kaggle.com/datasets/prasertk/healthy-lifestyle-cities-report-2021) about different cities around the world."
   ]
  },
  {
   "cell_type": "code",
   "execution_count": 20,
   "id": "dde183f1-005c-4071-ab43-441c8d947b44",
   "metadata": {},
   "outputs": [
    {
     "data": {
      "text/html": [
       "<div>\n",
       "<style scoped>\n",
       "    .dataframe tbody tr th:only-of-type {\n",
       "        vertical-align: middle;\n",
       "    }\n",
       "\n",
       "    .dataframe tbody tr th {\n",
       "        vertical-align: top;\n",
       "    }\n",
       "\n",
       "    .dataframe thead th {\n",
       "        text-align: right;\n",
       "    }\n",
       "</style>\n",
       "<table border=\"1\" class=\"dataframe\">\n",
       "  <thead>\n",
       "    <tr style=\"text-align: right;\">\n",
       "      <th></th>\n",
       "      <th>City</th>\n",
       "      <th>Rank</th>\n",
       "      <th>Sunshine hours(City)</th>\n",
       "      <th>Cost of a bottle of water(City)</th>\n",
       "      <th>Obesity levels(Country)</th>\n",
       "      <th>Life expectancy(years) (Country)</th>\n",
       "      <th>Pollution(Index score) (City)</th>\n",
       "      <th>Annual avg. hours worked</th>\n",
       "      <th>Happiness levels(Country)</th>\n",
       "      <th>Outdoor activities(City)</th>\n",
       "      <th>Number of take out places(City)</th>\n",
       "      <th>Cost of a monthly gym membership(City)</th>\n",
       "    </tr>\n",
       "  </thead>\n",
       "  <tbody>\n",
       "    <tr>\n",
       "      <th>0</th>\n",
       "      <td>Amsterdam</td>\n",
       "      <td>1</td>\n",
       "      <td>1858</td>\n",
       "      <td>£1.92</td>\n",
       "      <td>20.40%</td>\n",
       "      <td>81.2</td>\n",
       "      <td>30.93</td>\n",
       "      <td>1434</td>\n",
       "      <td>7.44</td>\n",
       "      <td>422</td>\n",
       "      <td>1048</td>\n",
       "      <td>£34.90</td>\n",
       "    </tr>\n",
       "    <tr>\n",
       "      <th>1</th>\n",
       "      <td>Sydney</td>\n",
       "      <td>2</td>\n",
       "      <td>2636</td>\n",
       "      <td>£1.48</td>\n",
       "      <td>29.00%</td>\n",
       "      <td>82.1</td>\n",
       "      <td>26.86</td>\n",
       "      <td>1712</td>\n",
       "      <td>7.22</td>\n",
       "      <td>406</td>\n",
       "      <td>1103</td>\n",
       "      <td>£41.66</td>\n",
       "    </tr>\n",
       "    <tr>\n",
       "      <th>2</th>\n",
       "      <td>Vienna</td>\n",
       "      <td>3</td>\n",
       "      <td>1884</td>\n",
       "      <td>£1.94</td>\n",
       "      <td>20.10%</td>\n",
       "      <td>81.0</td>\n",
       "      <td>17.33</td>\n",
       "      <td>1501</td>\n",
       "      <td>7.29</td>\n",
       "      <td>132</td>\n",
       "      <td>1008</td>\n",
       "      <td>£25.74</td>\n",
       "    </tr>\n",
       "    <tr>\n",
       "      <th>3</th>\n",
       "      <td>Stockholm</td>\n",
       "      <td>4</td>\n",
       "      <td>1821</td>\n",
       "      <td>£1.72</td>\n",
       "      <td>20.60%</td>\n",
       "      <td>81.8</td>\n",
       "      <td>19.63</td>\n",
       "      <td>1452</td>\n",
       "      <td>7.35</td>\n",
       "      <td>129</td>\n",
       "      <td>598</td>\n",
       "      <td>£37.31</td>\n",
       "    </tr>\n",
       "    <tr>\n",
       "      <th>4</th>\n",
       "      <td>Copenhagen</td>\n",
       "      <td>5</td>\n",
       "      <td>1630</td>\n",
       "      <td>£2.19</td>\n",
       "      <td>19.70%</td>\n",
       "      <td>79.8</td>\n",
       "      <td>21.24</td>\n",
       "      <td>1380</td>\n",
       "      <td>7.64</td>\n",
       "      <td>154</td>\n",
       "      <td>523</td>\n",
       "      <td>£32.53</td>\n",
       "    </tr>\n",
       "  </tbody>\n",
       "</table>\n",
       "</div>"
      ],
      "text/plain": [
       "         City  Rank Sunshine hours(City) Cost of a bottle of water(City)  \\\n",
       "0   Amsterdam     1                 1858                           £1.92   \n",
       "1      Sydney     2                 2636                           £1.48   \n",
       "2      Vienna     3                 1884                           £1.94   \n",
       "3   Stockholm     4                 1821                           £1.72   \n",
       "4  Copenhagen     5                 1630                           £2.19   \n",
       "\n",
       "  Obesity levels(Country)  Life expectancy(years) (Country)  \\\n",
       "0                  20.40%                              81.2   \n",
       "1                  29.00%                              82.1   \n",
       "2                  20.10%                              81.0   \n",
       "3                  20.60%                              81.8   \n",
       "4                  19.70%                              79.8   \n",
       "\n",
       "  Pollution(Index score) (City) Annual avg. hours worked  \\\n",
       "0                         30.93                     1434   \n",
       "1                         26.86                     1712   \n",
       "2                         17.33                     1501   \n",
       "3                         19.63                     1452   \n",
       "4                         21.24                     1380   \n",
       "\n",
       "   Happiness levels(Country)  Outdoor activities(City)  \\\n",
       "0                       7.44                       422   \n",
       "1                       7.22                       406   \n",
       "2                       7.29                       132   \n",
       "3                       7.35                       129   \n",
       "4                       7.64                       154   \n",
       "\n",
       "   Number of take out places(City) Cost of a monthly gym membership(City)  \n",
       "0                             1048                                 £34.90  \n",
       "1                             1103                                 £41.66  \n",
       "2                             1008                                 £25.74  \n",
       "3                              598                                 £37.31  \n",
       "4                              523                                 £32.53  "
      ]
     },
     "execution_count": 20,
     "metadata": {},
     "output_type": "execute_result"
    }
   ],
   "source": [
    "cities = pd.read_csv(\"healthy_lifestyle_city_2021.csv\")\n",
    "cities.head()\n"
   ]
  },
  {
   "cell_type": "markdown",
   "id": "0977ed19",
   "metadata": {},
   "source": [
    "First, let's clean this data a little.\n",
    "* Replace the values in \"Cost of a bottle of water(City)\", \"Sunshine hours(City)\" and \"Cost of a monthly gym membership(City)\" with numerical values (hint: use the pandas functions .str and .as_type())\n",
    "* Replace the values in \"Obesity levels(Country)\" to be numerical values. A value \"20.40%\" should be converted to \"0.204\"."
   ]
  },
  {
   "cell_type": "code",
   "execution_count": 21,
   "id": "fa7cfbe0-4f38-49d0-ac1f-e5fa5a6060b2",
   "metadata": {
    "deletable": false,
    "nbgrader": {
     "cell_type": "code",
     "checksum": "530c604fc420a90664a3323be39bb23e",
     "grade": false,
     "grade_id": "cell-67e48526cb3d882c",
     "locked": false,
     "schema_version": 3,
     "solution": true,
     "task": false
    }
   },
   "outputs": [],
   "source": [
    "# YOUR CODE HERE\n",
    "cities = cities.replace(\"-\", None)\n",
    "cities[\"Cost of a bottle of water(City)\"] = cities[\"Cost of a bottle of water(City)\"].str[1:]\n",
    "cities[\"Cost of a monthly gym membership(City)\"] = cities[\"Cost of a monthly gym membership(City)\"].str[1:]\n",
    "cities.loc[:,[\"Cost of a bottle of water(City)\",\"Cost of a monthly gym membership(City)\", \"Sunshine hours(City)\"]] =cities.loc[:,[\"Cost of a bottle of water(City)\",\"Cost of a monthly gym membership(City)\", \"Sunshine hours(City)\"]].astype(float)\n",
    "cities[\"Obesity levels(Country)\"] = cities[\"Obesity levels(Country)\"].str[:-1].astype(float) /100 \n",
    "#raise NotImplementedError()"
   ]
  },
  {
   "cell_type": "code",
   "execution_count": 22,
   "id": "0128cd61",
   "metadata": {
    "deletable": false,
    "editable": false,
    "nbgrader": {
     "cell_type": "code",
     "checksum": "0f09644e2f1c171465ace178358d291b",
     "grade": true,
     "grade_id": "cell-424c1572d1adec05",
     "locked": true,
     "points": 1,
     "schema_version": 3,
     "solution": false,
     "task": false
    }
   },
   "outputs": [],
   "source": [
    "assert_is_instance(cities, pd.DataFrame)\n",
    "assert_equal(len(cities), 44)\n",
    "assert_almost_equal(cities.loc[(cities[\"City\"] == \"Vienna\")][\"Sunshine hours(City)\"].values[0], 1884.0)\n",
    "assert_almost_equal(cities.loc[(cities[\"City\"] == \"Stockholm\")][\"Cost of a bottle of water(City)\"].values[0], 1.72)\n",
    "assert_almost_equal(cities.loc[(cities[\"City\"] == \"Milan\")][\"Obesity levels(Country)\"].values[0], 0.199)\n",
    "assert_almost_equal(cities.loc[(cities[\"City\"] == \"New York\")][\"Cost of a monthly gym membership(City)\"].values[0], 64.66)"
   ]
  },
  {
   "cell_type": "markdown",
   "id": "d6adbab4-326a-4907-9f25-ae5feef2983f",
   "metadata": {},
   "source": [
    "### 1b (1 point)\n",
    "What is the mean of the column \"Obesity levels(Country)\"?"
   ]
  },
  {
   "cell_type": "code",
   "execution_count": 23,
   "id": "6dbad3e6",
   "metadata": {
    "deletable": false,
    "nbgrader": {
     "cell_type": "code",
     "checksum": "915f7704137f59d658d59eaaef8a35c1",
     "grade": false,
     "grade_id": "cell-8c8767ce075ccffb",
     "locked": false,
     "schema_version": 3,
     "solution": true,
     "task": false
    }
   },
   "outputs": [],
   "source": [
    "mean_obesity_level = cities[\"Obesity levels(Country)\"].mean()\n",
    "\n",
    "# YOUR CODE HERE\n",
    "#raise NotImplementedError()"
   ]
  },
  {
   "cell_type": "markdown",
   "id": "e381295e",
   "metadata": {},
   "source": [
    "### 1c (1 point)\n",
    "Is the mean a good measure to summarize the values of \"Obesity levels(Country)\"?"
   ]
  },
  {
   "cell_type": "code",
   "execution_count": 30,
   "id": "06394073-bad3-4b84-b246-ed8f4cdd3387",
   "metadata": {
    "deletable": false,
    "nbgrader": {
     "cell_type": "code",
     "checksum": "16dca5af51b88e89370c3a3196d4d50c",
     "grade": false,
     "grade_id": "cell-73833e6a3bef14f2",
     "locked": false,
     "schema_version": 3,
     "solution": true,
     "task": false
    }
   },
   "outputs": [
    {
     "data": {
      "text/plain": [
       "<AxesSubplot:ylabel='Obesity levels(Country)'>"
      ]
     },
     "execution_count": 30,
     "metadata": {},
     "output_type": "execute_result"
    },
    {
     "data": {
      "image/png": "[encoded data removed]",
      "text/plain": [
       "<Figure size 432x288 with 1 Axes>"
      ]
     },
     "metadata": {
      "needs_background": "light"
     },
     "output_type": "display_data"
    }
   ],
   "source": [
    "# a visualization might help...\n",
    "sns.violinplot(y=cities[\"Obesity levels(Country)\"])\n",
    "# YOUR CODE HERE\n",
    "#raise NotImplementedError()"
   ]
  },
  {
   "cell_type": "markdown",
   "id": "e84370af",
   "metadata": {
    "deletable": false,
    "nbgrader": {
     "cell_type": "markdown",
     "checksum": "0e380ff6a67e50abceb3932b42aa273b",
     "grade": true,
     "grade_id": "cell-af1b6bda9c368057",
     "locked": false,
     "points": 1,
     "schema_version": 3,
     "solution": true,
     "task": false
    }
   },
   "source": [
    "The mean doesn't show us the distribution. With a violinplot we can see an (approximated) distribution, and we see 2 different groups of country with 0.25 obesity and under 0.1 obesity respectively"
   ]
  },
  {
   "cell_type": "markdown",
   "id": "17ec9d09",
   "metadata": {},
   "source": [
    "### 1d (2 points)\n",
    "Please make a new column called \"Continent\" containing the continent of each city. <br>\n",
    "If a city is in multiple continents, choose one (it will make the following plots cleaner). <br>\n",
    "Use this list of continent names: Europe, Australia, America, Asia, Antarctica, Oceania.\n",
    "\n",
    "Hint: You can go two routes, find a different dataframe on the internet to join to this one (using the pandas function merge), or hand-code the information. Whichever is easier for you :)"
   ]
  },
  {
   "cell_type": "code",
   "execution_count": null,
   "id": "ebc9adb3",
   "metadata": {},
   "outputs": [],
   "source": []
  },
  {
   "cell_type": "code",
   "execution_count": 37,
   "id": "e6ef7ffb",
   "metadata": {
    "deletable": false,
    "nbgrader": {
     "cell_type": "code",
     "checksum": "ece54616e8ddbb3dcad84c8cadb4d268",
     "grade": false,
     "grade_id": "cell-36f40a02cef87b84",
     "locked": false,
     "schema_version": 3,
     "solution": true,
     "task": false
    }
   },
   "outputs": [],
   "source": [
    "continents = {\"Europe\":[\"Amsterdam\", \"Vienna\", \"Stockholm\", \"Copenhagen\", \"Helsinki\", \"Berlin\", \"Barcelona\", \"Madrid\", \"Frankfurt\", \"Istanbul\", \"Geneva\", \"Dublin\", \"Moscow\", \"Brussels\", \"Paris\", \"Zurich\", \"London\", \"Milan\"],\n",
    "              \"Asia\" : [\"Fukuoka\", \"Beijing\", \"Bangkok\", \"Jakarta\", \"Seoul\", \"Taipei\", \"Tel Aviv\", \"Mumbai\", \"Tokyo\", \"Shanghai\", \"Hong Kong\"],\n",
    "              \"America\":[\"Vancouver\", \"Buenos Aires\", \"Toronto\", \"Los Angeles\", \"Boston\", \"Chicago\", \"San Francisco\", \"Sao Paulo\", \"Washington, D.C.\", \"New York\", \"Mexico City\"],\n",
    "              \"Africa\" :[\"Cairo\", \"Johannesburg\"],\n",
    "              \"Australia\":[\"Sydney\", \"Melbourne\"]}\n",
    "\n",
    "for continent in continents:\n",
    "    cities.loc[cities.City.isin(continents[continent]), \"Continent\"] = continent\n",
    "\n",
    "# YOUR CODE HERE\n",
    "#raise NotImplementedError()"
   ]
  },
  {
   "cell_type": "code",
   "execution_count": 39,
   "id": "6d550702",
   "metadata": {
    "deletable": false,
    "editable": false,
    "nbgrader": {
     "cell_type": "code",
     "checksum": "0b52e7435b6c92cb6d4e8fa6690c1de6",
     "grade": true,
     "grade_id": "cell-4623025f67354f71",
     "locked": true,
     "points": 1,
     "schema_version": 3,
     "solution": false,
     "task": false
    }
   },
   "outputs": [],
   "source": [
    "assert_equal(cities.loc[(cities[\"City\"] == \"Vienna\")][\"Continent\"].values[0], \"Europe\")\n",
    "assert_equal(cities.loc[(cities[\"City\"] == \"Sydney\")][\"Continent\"].values[0], \"Australia\")\n",
    "assert_equal(cities.loc[(cities[\"City\"] == \"Johannesburg\")][\"Continent\"].values[0], \"Africa\")\n",
    "assert_equal(cities.loc[(cities[\"City\"] == \"Sao Paulo\")][\"Continent\"].values[0], \"America\")\n",
    "assert_equal(cities.loc[(cities[\"City\"] == \"Shanghai\")][\"Continent\"].values[0], \"Asia\")"
   ]
  },
  {
   "cell_type": "markdown",
   "id": "e96421de",
   "metadata": {},
   "source": [
    "What does the column \"Continent\" have to do with question 1c? (Hint: This is pretty similar to the penguin flipper lengths from the lecture)"
   ]
  },
  {
   "cell_type": "code",
   "execution_count": 40,
   "id": "e477a5de",
   "metadata": {
    "deletable": false,
    "nbgrader": {
     "cell_type": "code",
     "checksum": "1e2ab3d26e3aae8f21e6b50ee3cbce4a",
     "grade": false,
     "grade_id": "cell-2520395026cab69f",
     "locked": false,
     "schema_version": 3,
     "solution": true,
     "task": false
    }
   },
   "outputs": [
    {
     "data": {
      "text/plain": [
       "<AxesSubplot:xlabel='Continent', ylabel='Obesity levels(Country)'>"
      ]
     },
     "execution_count": 40,
     "metadata": {},
     "output_type": "execute_result"
    },
    {
     "data": {
      "image/png": "[encoded data removed]",
      "text/plain": [
       "<Figure size 432x288 with 1 Axes>"
      ]
     },
     "metadata": {
      "needs_background": "light"
     },
     "output_type": "display_data"
    }
   ],
   "source": [
    "sns.violinplot(x=cities[\"Continent\"], y=cities[\"Obesity levels(Country)\"])\n",
    "\n",
    "# YOUR CODE HERE\n",
    "#raise NotImplementedError()"
   ]
  },
  {
   "cell_type": "markdown",
   "id": "8d676c24",
   "metadata": {
    "deletable": false,
    "nbgrader": {
     "cell_type": "markdown",
     "checksum": "09fa471447e2444952daa7da5b49a668",
     "grade": true,
     "grade_id": "cell-1a46653c120dae60",
     "locked": false,
     "points": 1,
     "schema_version": 3,
     "solution": true,
     "task": false
    }
   },
   "source": [
    "We can see that the Asian countries in our data set have a lower obesity level than other continents. It is important to note that Australia and Africa only have to cities in the data set"
   ]
  },
  {
   "cell_type": "markdown",
   "id": "822974fb",
   "metadata": {},
   "source": [
    "![](https://upload.wikimedia.org/wikipedia/commons/8/89/Melbourne_skyline_from_Williamstown.png)"
   ]
  },
  {
   "cell_type": "markdown",
   "id": "a547dab9-c874-4d8a-839e-d727ce176b33",
   "metadata": {},
   "source": [
    "## 2 (8 points)\n",
    "You have gotten the job as data visualization expert in Melbourne. 🎉 Congratulations! <br>\n",
    "Your first task is to make a stunning plot to convince everyone that Melbourne is the best city in the whole wide world! We want to print it on posters! Or at least in the national tourism brochure.\n",
    "\n",
    "* Make **one plot** using any and all (evil) principles of data visualization. If you need inspiration, look at the examples on the lecture slides or here: https://www.youtube.com/watch?v=E91bGT9BjYk or google \"misleading data visualization\".\n",
    "* If necessary, write (max) 3 sentences to explain your plot"
   ]
  },
  {
   "cell_type": "code",
   "execution_count": 51,
   "id": "f94d6335",
   "metadata": {},
   "outputs": [],
   "source": [
    "cities.loc[:,[\"Pollution(Index score) (City)\", \"Annual avg. hours worked\"]] = cities.loc[:,[\"Pollution(Index score) (City)\", \"Annual avg. hours worked\"]].astype(float)"
   ]
  },
  {
   "cell_type": "code",
   "execution_count": 83,
   "id": "d5d4e53e",
   "metadata": {},
   "outputs": [],
   "source": [
    "cities_mean = pd.concat([cities.loc[cities[\"City\"] == \"Melbourne\"].groupby(\"City\").mean(), cities.groupby(\"Continent\").mean()])\n"
   ]
  },
  {
   "cell_type": "code",
   "execution_count": 82,
   "id": "ad51ba30",
   "metadata": {
    "deletable": false,
    "nbgrader": {
     "cell_type": "code",
     "checksum": "15977f7ac5e0bf0c5565956ff8762081",
     "grade": true,
     "grade_id": "cell-16944c7107e45a9c",
     "locked": false,
     "points": 0,
     "schema_version": 3,
     "solution": true,
     "task": false
    }
   },
   "outputs": [
    {
     "data": {
      "text/plain": [
       "<AxesSubplot:>"
      ]
     },
     "execution_count": 82,
     "metadata": {},
     "output_type": "execute_result"
    },
    {
     "data": {
      "image/png": "[encoded data removed]",
      "text/plain": [
       "<Figure size 1008x720 with 1 Axes>"
      ]
     },
     "metadata": {
      "needs_background": "light"
     },
     "output_type": "display_data"
    }
   ],
   "source": [
    "# Put your plot here\n",
    "\n",
    "cities_mean.loc[cities_mean.index != \"Australia\",[\"Pollution(Index score) (City)\"]].rename(columns={\"Pollution(Index score) (City)\":\"Pollution\"}).plot.bar(figsize=(14,10))\n",
    "#raise NotImplementedError()"
   ]
  },
  {
   "cell_type": "markdown",
   "id": "72224736",
   "metadata": {
    "deletable": false,
    "editable": false,
    "nbgrader": {
     "cell_type": "markdown",
     "checksum": "845a1f272fa63313b22dd14b62fecb75",
     "grade": false,
     "grade_id": "cell-b1629163b05baa4b",
     "locked": true,
     "points": 0,
     "schema_version": 3,
     "solution": false,
     "task": true
    }
   },
   "source": [
    "Melbourne as a clean city compared to the cities of other continents\n"
   ]
  },
  {
   "cell_type": "markdown",
   "id": "f661220a-4a02-4bc9-93fa-624d3df2df6c",
   "metadata": {},
   "source": [
    "## 3 (2 points)\n",
    "### 3a (2 points)\n",
    "Where did this data even come from? Find one instance where a data point in the cities dataframe is false. Write one sentence explaining why it is false and provide a source proving your claim."
   ]
  },
  {
   "cell_type": "markdown",
   "id": "da092d93",
   "metadata": {
    "deletable": false,
    "nbgrader": {
     "cell_type": "markdown",
     "checksum": "13532d4664f0c6d8c0dc89518ba95b7f",
     "grade": true,
     "grade_id": "cell-b9358a3f2d06e029",
     "locked": false,
     "points": 2,
     "schema_version": 3,
     "solution": true,
     "task": false
    }
   },
   "source": [
    "Life expectancy in Spain is 83.3 years according to a study by the ministry of health in 2018"
   ]
  }
 ],
 "metadata": {
  "kernelspec": {
   "display_name": "Python 3 (ipykernel)",
   "language": "python",
   "name": "python3"
  },
  "language_info": {
   "codemirror_mode": {
    "name": "ipython",
    "version": 3
   },
   "file_extension": ".py",
   "mimetype": "text/x-python",
   "name": "python",
   "nbconvert_exporter": "python",
   "pygments_lexer": "ipython3",
   "version": "3.8.10"
  }
 },
 "nbformat": 4,
 "nbformat_minor": 5
}
