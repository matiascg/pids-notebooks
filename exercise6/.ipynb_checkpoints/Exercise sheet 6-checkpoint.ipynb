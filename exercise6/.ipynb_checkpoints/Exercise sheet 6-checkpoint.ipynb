{
 "cells": [
  {
   "cell_type": "markdown",
   "metadata": {},
   "source": [
    "# Exercise sheet 6\n",
    "**Hello everyone!**\n",
    "\n",
    "**Points: 15**\n",
    "\n",
    "Topics of this exercise sheet are:\n",
    "* Probabilities\n",
    "* Conditional Probabilities\n",
    "\n",
    "Please let us know if you have questions or problems! <br>\n",
    "Contact us during the exercise session, on [ADAM](https://adam.unibas.ch/goto_adam_crs_1266890.html), [Piazza](https://piazza.com/class/kzy15kp8s5t6ku), or [via email](https://sada.dmi.unibas.ch/en/teaching/pids22).\n",
    "\n",
    "Please submit this exercise sheet on **ADAM**.\n",
    "Naming conventions:\n",
    "* Name of notebook: \"Exercise sheet 6.ipynb\"\n",
    "* Please put it in a folder structure like this: \"your_unibas_short_name/exercise6/Exercise sheet 6.ipynb\"\n",
    "* You can find your unibas short name either...\n",
    "    * by looking at the filename of the feedback on exercise sheet 2, 3, 4, 5 (from ADAM)\n",
    "    * or if you didn't submit any exercise sheet yet, log in to viaweb.unibas.ch and you will see your unibas short name after the welcome message\n",
    "* Then zip this folder and upload it on ADAM.\n",
    "\n",
    "**Handout date**: 2022/04/11 <br>\n",
    "**Submission date**: 2022/04/18 <br>\n",
    "**Discussion date**: 2022/04/19"
   ]
  },
  {
   "cell_type": "code",
   "execution_count": null,
   "metadata": {},
   "outputs": [],
   "source": [
    "import pandas as pd\n",
    "import seaborn as sns\n",
    "import matplotlib.pyplot as plt\n",
    "import numpy as np\n",
    "from nose.tools import assert_is_instance, assert_equal, assert_almost_equal, assert_true"
   ]
  },
  {
   "cell_type": "markdown",
   "metadata": {},
   "source": [
    "## 1 (6 points)\n",
    "Let's start with some basic probability terms.\n",
    "\n",
    "### 1a (1 point)\n",
    "What is $\\Omega$ for 3 coin tosses? Use the Python set data structure with tuples to describe each possible outcome. Check the slides for lecture 5 to see what $\\Omega$ is."
   ]
  },
  {
   "cell_type": "code",
   "execution_count": null,
   "metadata": {
    "deletable": false,
    "nbgrader": {
     "cell_type": "code",
     "checksum": "0af520d85ea366700111940007c6a1a7",
     "grade": false,
     "grade_id": "cell-85f0aa24377f6a04",
     "locked": false,
     "schema_version": 3,
     "solution": true,
     "task": false
    }
   },
   "outputs": [],
   "source": [
    "#omega_three_coin_tosses = ...\n",
    "# YOUR CODE HERE\n",
    "raise NotImplementedError()"
   ]
  },
  {
   "cell_type": "code",
   "execution_count": null,
   "metadata": {
    "deletable": false,
    "editable": false,
    "nbgrader": {
     "cell_type": "code",
     "checksum": "cc34e09010db5f1b1c586da508411566",
     "grade": true,
     "grade_id": "cell-d6087221b91e6736",
     "locked": true,
     "points": 1,
     "schema_version": 3,
     "solution": false,
     "task": false
    }
   },
   "outputs": [],
   "source": [
    "assert_is_instance(omega_three_coin_tosses, set)\n",
    "assert_true((0,0,0) in omega_three_coin_tosses)"
   ]
  },
  {
   "cell_type": "markdown",
   "metadata": {},
   "source": [
    "### 1b (1 point)\n",
    "We roll two standard dice.\n",
    "What is $\\Omega$ for \"We roll the same number twice?\""
   ]
  },
  {
   "cell_type": "code",
   "execution_count": null,
   "metadata": {
    "deletable": false,
    "nbgrader": {
     "cell_type": "code",
     "checksum": "5d7fb96673887099558c785d97136afe",
     "grade": false,
     "grade_id": "cell-e14669da3b7636be",
     "locked": false,
     "schema_version": 3,
     "solution": true,
     "task": false
    }
   },
   "outputs": [],
   "source": [
    "#omega_same_number_twice = ...\n",
    "# YOUR CODE HERE\n",
    "raise NotImplementedError()"
   ]
  },
  {
   "cell_type": "code",
   "execution_count": null,
   "metadata": {
    "deletable": false,
    "editable": false,
    "nbgrader": {
     "cell_type": "code",
     "checksum": "60fbac4d57f0b718e9bacbaafff0f3bc",
     "grade": true,
     "grade_id": "cell-f13015f9c3335967",
     "locked": true,
     "points": 1,
     "schema_version": 3,
     "solution": false,
     "task": false
    }
   },
   "outputs": [],
   "source": [
    "assert_is_instance(omega_same_number_twice, set)\n",
    "assert_true((1,1) in omega_same_number_twice)"
   ]
  },
  {
   "cell_type": "markdown",
   "metadata": {},
   "source": [
    "### 1c (1 point)\n",
    "We roll two standard dice. What is the probability for the sum of the two dice being lower than 30?"
   ]
  },
  {
   "cell_type": "code",
   "execution_count": null,
   "metadata": {
    "deletable": false,
    "nbgrader": {
     "cell_type": "code",
     "checksum": "8e2355a2466b2bb9842bc4e61fc65032",
     "grade": false,
     "grade_id": "cell-726e66c3dbc5c1f4",
     "locked": false,
     "schema_version": 3,
     "solution": true,
     "task": false
    }
   },
   "outputs": [],
   "source": [
    "#probability_lower_30 = ...\n",
    "# YOUR CODE HERE\n",
    "raise NotImplementedError()"
   ]
  },
  {
   "cell_type": "code",
   "execution_count": null,
   "metadata": {
    "deletable": false,
    "editable": false,
    "nbgrader": {
     "cell_type": "code",
     "checksum": "3fe967d0c5609fad848a0a93e2e10f5f",
     "grade": true,
     "grade_id": "cell-9a36a513e0e5666b",
     "locked": true,
     "points": 1,
     "schema_version": 3,
     "solution": false,
     "task": false
    }
   },
   "outputs": [],
   "source": [
    "assert_is_instance(probability_lower_30, float)"
   ]
  },
  {
   "cell_type": "markdown",
   "metadata": {},
   "source": [
    "### 1d (1 point)\n",
    "We roll two standard dice. What is the probability for the sum of the two dice being lower or equal to 6?"
   ]
  },
  {
   "cell_type": "code",
   "execution_count": null,
   "metadata": {
    "deletable": false,
    "nbgrader": {
     "cell_type": "code",
     "checksum": "b12f1e41b2e4a1cd8e8598db075798e5",
     "grade": false,
     "grade_id": "cell-3f1a63a0f6475004",
     "locked": false,
     "schema_version": 3,
     "solution": true,
     "task": false
    }
   },
   "outputs": [],
   "source": [
    "#probability_lower_6 = ...\n",
    "# YOUR CODE HERE\n",
    "raise NotImplementedError()"
   ]
  },
  {
   "cell_type": "code",
   "execution_count": null,
   "metadata": {
    "deletable": false,
    "editable": false,
    "nbgrader": {
     "cell_type": "code",
     "checksum": "40735c6d6d4038a8076b9c607bae62a9",
     "grade": true,
     "grade_id": "cell-912ffb901cab2c66",
     "locked": true,
     "points": 1,
     "schema_version": 3,
     "solution": false,
     "task": false
    }
   },
   "outputs": [],
   "source": [
    "assert_is_instance(probability_lower_6, float)"
   ]
  },
  {
   "cell_type": "markdown",
   "metadata": {},
   "source": [
    "### 1e (2 point)\n",
    "We roll two standard dice. If the first die shows a \"6\", what is the probability of the sum of the two dice being equal or higher than 8?"
   ]
  },
  {
   "cell_type": "code",
   "execution_count": null,
   "metadata": {
    "deletable": false,
    "nbgrader": {
     "cell_type": "code",
     "checksum": "db59955f1ad860d1e0d5735bc77ea7c3",
     "grade": false,
     "grade_id": "cell-37bbbd825b890acb",
     "locked": false,
     "schema_version": 3,
     "solution": true,
     "task": false
    }
   },
   "outputs": [],
   "source": [
    "#probability_higher_8 = ...\n",
    "# YOUR CODE HERE\n",
    "raise NotImplementedError()"
   ]
  },
  {
   "cell_type": "code",
   "execution_count": null,
   "metadata": {
    "deletable": false,
    "editable": false,
    "nbgrader": {
     "cell_type": "code",
     "checksum": "4121bb8947fc6bb98689c2d29723a740",
     "grade": true,
     "grade_id": "cell-79bfdfafc1dd07ae",
     "locked": true,
     "points": 2,
     "schema_version": 3,
     "solution": false,
     "task": false
    }
   },
   "outputs": [],
   "source": [
    "assert_is_instance(probability_higher_8, float)"
   ]
  },
  {
   "cell_type": "markdown",
   "metadata": {},
   "source": [
    "## 2 (5 points)\n",
    "We will work with a dataset about strokes (sourced from [Kaggle](https://www.kaggle.com/datasets/fedesoriano/stroke-prediction-dataset))."
   ]
  },
  {
   "cell_type": "code",
   "execution_count": null,
   "metadata": {},
   "outputs": [],
   "source": [
    "stroke_df = pd.read_csv(\"healthcare-dataset-stroke-data.csv\")\n",
    "stroke_df"
   ]
  },
  {
   "cell_type": "markdown",
   "metadata": {},
   "source": [
    "### 2a (1 point)\n",
    "For a patient contained in this dataset, what is the probability that they had a stroke (P(stroke))?"
   ]
  },
  {
   "cell_type": "code",
   "execution_count": null,
   "metadata": {
    "deletable": false,
    "nbgrader": {
     "cell_type": "code",
     "checksum": "f5f44e0726c7914b345c58d9f4e73354",
     "grade": false,
     "grade_id": "cell-d705987e21fb4422",
     "locked": false,
     "schema_version": 3,
     "solution": true,
     "task": false
    }
   },
   "outputs": [],
   "source": [
    "#probability_stroke = ...\n",
    "# YOUR CODE HERE\n",
    "raise NotImplementedError()\n",
    "print(probability_stroke)"
   ]
  },
  {
   "cell_type": "code",
   "execution_count": null,
   "metadata": {
    "deletable": false,
    "editable": false,
    "nbgrader": {
     "cell_type": "code",
     "checksum": "b2abbb5f8dd934bd56ffaa96ad5a4608",
     "grade": true,
     "grade_id": "cell-abfb253fab1b086d",
     "locked": true,
     "points": 1,
     "schema_version": 3,
     "solution": false,
     "task": false
    }
   },
   "outputs": [],
   "source": [
    "assert_is_instance(probability_stroke, float)"
   ]
  },
  {
   "cell_type": "markdown",
   "metadata": {},
   "source": [
    "### 2b (1 point)\n",
    "For a patient contained in this dataset who had heart disease (heart_disease = 1), what is the probability that they had a stroke (P(stroke|heart_disease))?"
   ]
  },
  {
   "cell_type": "code",
   "execution_count": null,
   "metadata": {
    "deletable": false,
    "nbgrader": {
     "cell_type": "code",
     "checksum": "aad69520960442bf8bf6b8256104c10c",
     "grade": false,
     "grade_id": "cell-5ee38af4cad7f998",
     "locked": false,
     "schema_version": 3,
     "solution": true,
     "task": false
    }
   },
   "outputs": [],
   "source": [
    "#probability_stroke_heart_disease = ...\n",
    "# YOUR CODE HERE\n",
    "raise NotImplementedError()\n",
    "print(probability_stroke_heart_disease)"
   ]
  },
  {
   "cell_type": "code",
   "execution_count": null,
   "metadata": {
    "deletable": false,
    "editable": false,
    "nbgrader": {
     "cell_type": "code",
     "checksum": "bd8f1f1e05c100daeeb5cbede95f9318",
     "grade": true,
     "grade_id": "cell-4592808d760724cf",
     "locked": true,
     "points": 1,
     "schema_version": 3,
     "solution": false,
     "task": false
    }
   },
   "outputs": [],
   "source": [
    "assert_is_instance(probability_stroke_heart_disease, float)"
   ]
  },
  {
   "cell_type": "markdown",
   "metadata": {},
   "source": [
    "### 2c (3 points)\n",
    "What is the probability of P(stroke|hypertension)?\n",
    "\n",
    "Hint: Check the slides for a very similar example about breast cancer"
   ]
  },
  {
   "cell_type": "code",
   "execution_count": null,
   "metadata": {
    "deletable": false,
    "nbgrader": {
     "cell_type": "code",
     "checksum": "f6f9ff45bf6ec24aca9834ee80a11890",
     "grade": false,
     "grade_id": "cell-2871bba4629240f8",
     "locked": false,
     "schema_version": 3,
     "solution": true,
     "task": false
    }
   },
   "outputs": [],
   "source": [
    "#probability_stroke_hypertension = ...\n",
    "# YOUR CODE HERE\n",
    "raise NotImplementedError()\n",
    "print(probability_stroke_hypertension)"
   ]
  },
  {
   "cell_type": "code",
   "execution_count": null,
   "metadata": {
    "deletable": false,
    "editable": false,
    "nbgrader": {
     "cell_type": "code",
     "checksum": "68f18b98954c959e0ee82228cdd2538f",
     "grade": true,
     "grade_id": "cell-1a0d689f67daf28d",
     "locked": true,
     "points": 3,
     "schema_version": 3,
     "solution": false,
     "task": false
    }
   },
   "outputs": [],
   "source": [
    "assert_is_instance(probability_stroke_hypertension, float)"
   ]
  },
  {
   "cell_type": "markdown",
   "metadata": {},
   "source": [
    "### 2d (4 points)\n",
    "According to the [Mayo Clinic](https://www.mayoclinic.org/diseases-conditions/diabetes/diagnosis-treatment/drc-20371451), a \"blood sugar level less than 140 mg/dL (7.8 mmol/L) is normal\".\n",
    "\n",
    "* Make a new column called \"high_glucose\" that has a 1 if the avg_glucose_level measurement was equal to or higher than 140, and a 0 otherwise"
   ]
  },
  {
   "cell_type": "code",
   "execution_count": null,
   "metadata": {
    "deletable": false,
    "nbgrader": {
     "cell_type": "code",
     "checksum": "5122a12c785b70f57e680084a9378dc6",
     "grade": false,
     "grade_id": "cell-b62c57fe4875d77a",
     "locked": false,
     "schema_version": 3,
     "solution": true,
     "task": false
    }
   },
   "outputs": [],
   "source": [
    "# stroke_df[\"high_glucose\"] = ...\n",
    "# YOUR CODE HERE\n",
    "raise NotImplementedError()"
   ]
  },
  {
   "cell_type": "code",
   "execution_count": null,
   "metadata": {
    "deletable": false,
    "editable": false,
    "nbgrader": {
     "cell_type": "code",
     "checksum": "bd52e38f2ba8dc8f5ed191e1716fa306",
     "grade": true,
     "grade_id": "cell-d2720ca4ba63af38",
     "locked": true,
     "points": 1,
     "schema_version": 3,
     "solution": false,
     "task": false
    }
   },
   "outputs": [],
   "source": [
    "#assert_is_instance(stroke_df[\"high_glucose\"], set)"
   ]
  },
  {
   "cell_type": "markdown",
   "metadata": {},
   "source": [
    "* Use this new column to calculate P(stroke|high_glucose)"
   ]
  },
  {
   "cell_type": "code",
   "execution_count": null,
   "metadata": {
    "deletable": false,
    "nbgrader": {
     "cell_type": "code",
     "checksum": "eb01f52cf6487684c8f57291fe920684",
     "grade": false,
     "grade_id": "cell-96a4ca2cec45e2e3",
     "locked": false,
     "schema_version": 3,
     "solution": true,
     "task": false
    }
   },
   "outputs": [],
   "source": [
    "# probability_stroke_high_glucose = ...\n",
    "# YOUR CODE HERE\n",
    "raise NotImplementedError()\n",
    "print(probability_stroke_high_glucose)"
   ]
  },
  {
   "cell_type": "code",
   "execution_count": null,
   "metadata": {
    "deletable": false,
    "editable": false,
    "nbgrader": {
     "cell_type": "code",
     "checksum": "ff8de1501a2d5b84fb7c094e2db54aa3",
     "grade": true,
     "grade_id": "cell-561eda5d11855e2c",
     "locked": true,
     "points": 1,
     "schema_version": 3,
     "solution": false,
     "task": false
    }
   },
   "outputs": [],
   "source": [
    "assert_is_instance(probability_stroke_high_glucose, float)"
   ]
  },
  {
   "cell_type": "markdown",
   "metadata": {},
   "source": [
    "\n",
    "* Calculate P(high_glucose|stroke)"
   ]
  },
  {
   "cell_type": "code",
   "execution_count": null,
   "metadata": {
    "deletable": false,
    "nbgrader": {
     "cell_type": "code",
     "checksum": "b20f8e55a2c779b09e7d065d92ebc836",
     "grade": false,
     "grade_id": "cell-cc7cf764ecaa7013",
     "locked": false,
     "schema_version": 3,
     "solution": true,
     "task": false
    }
   },
   "outputs": [],
   "source": [
    "# probability_high_glucose_stroke = ...\n",
    "# YOUR CODE HERE\n",
    "raise NotImplementedError()\n",
    "print(probability_high_glucose_stroke)"
   ]
  },
  {
   "cell_type": "code",
   "execution_count": null,
   "metadata": {
    "deletable": false,
    "editable": false,
    "nbgrader": {
     "cell_type": "code",
     "checksum": "8b491a1a73c3879ab210416e163beb77",
     "grade": true,
     "grade_id": "cell-7cfc8b9672c5960c",
     "locked": true,
     "points": 2,
     "schema_version": 3,
     "solution": false,
     "task": false
    }
   },
   "outputs": [],
   "source": [
    "assert_is_instance(probability_high_glucose_stroke, float)"
   ]
  }
 ],
 "metadata": {
  "kernelspec": {
   "display_name": "Python 3",
   "language": "python",
   "name": "python3"
  },
  "language_info": {
   "codemirror_mode": {
    "name": "ipython",
    "version": 3
   },
   "file_extension": ".py",
   "mimetype": "text/x-python",
   "name": "python",
   "nbconvert_exporter": "python",
   "pygments_lexer": "ipython3",
   "version": "3.8.3"
  }
 },
 "nbformat": 4,
 "nbformat_minor": 5
}
